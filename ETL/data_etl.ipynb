{
 "cells": [
  {
   "cell_type": "markdown",
   "metadata": {},
   "source": [
    "## Dados sobre as reclamações realizadas no site:"
   ]
  },
  {
   "cell_type": "markdown",
   "metadata": {},
   "source": [
    "https://www.consumidor.gov.br/pages/principal/?1652964614719"
   ]
  },
  {
   "attachments": {},
   "cell_type": "markdown",
   "metadata": {},
   "source": [
    "- Dados referentes ao ano de 2022 (Janeiro até Dezembro)\n",
    "- Dados referentes ao ano de 2023 (Janeiro até Julho)"
   ]
  },
  {
   "cell_type": "markdown",
   "metadata": {},
   "source": [
    "### Realizando o Pre-Processamento dos Dados"
   ]
  },
  {
   "cell_type": "markdown",
   "metadata": {},
   "source": [
    "### Bibliotecas Utilizadas:"
   ]
  },
  {
   "cell_type": "code",
   "execution_count": 2,
   "metadata": {},
   "outputs": [],
   "source": [
    "# Imports\n",
    "\n",
    "# Manipulaçao dos dados\n",
    "import pandas as pd\n",
    "import numpy as np\n",
    "\n",
    "# Manipulação de arquivos/sistema\n",
    "import glob\n",
    "import os\n",
    "\n",
    "# Ignore Warning(Avisos)\n",
    "import warnings\n",
    "\n",
    "warnings.filterwarnings(\"ignore\")\n",
    "\n",
    "pd.set_option('display.max_columns', 100)"
   ]
  },
  {
   "cell_type": "markdown",
   "metadata": {},
   "source": [
    "### Carregando a base de dados:"
   ]
  },
  {
   "cell_type": "code",
   "execution_count": 3,
   "metadata": {},
   "outputs": [],
   "source": [
    "# Unindo os dados dos meses de 2022(Janeiro Até Dezembro) - 2023(Janeiro Até Julho).\n",
    "\n",
    "# Criando uma variável com a extensão do arquivo a ser lido\n",
    "extensao = 'csv'\n",
    "\n",
    "# Agrupando/Concatenando os arqquivos, tudo em um único DataFrame\n",
    "arquivos_csv = [i for i in glob.glob(f'../Data/Data_for_csv/*.{extensao}')]\n",
    "df_gov = pd.concat([pd.read_csv(f, sep=';') for f in arquivos_csv])"
   ]
  },
  {
   "cell_type": "markdown",
   "metadata": {},
   "source": [
    "### Informações do dataset"
   ]
  },
  {
   "cell_type": "code",
   "execution_count": 4,
   "metadata": {},
   "outputs": [
    {
     "data": {
      "text/plain": [
       "Index(['Região', 'UF', 'Cidade', 'Sexo', 'Faixa Etária', 'Data Finalização',\n",
       "       'Tempo Resposta', 'Nome Fantasia', 'Segmento de Mercado', 'Área',\n",
       "       'Assunto', 'Grupo Problema', 'Problema', 'Como Comprou Contratou',\n",
       "       'Procurou Empresa', 'Respondida', 'Situação', 'Avaliação Reclamação',\n",
       "       'Nota do Consumidor'],\n",
       "      dtype='object')"
      ]
     },
     "execution_count": 4,
     "metadata": {},
     "output_type": "execute_result"
    }
   ],
   "source": [
    "# Verificando o nome das colunas do DataFrame\n",
    "df_gov.columns"
   ]
  },
  {
   "cell_type": "code",
   "execution_count": 5,
   "metadata": {},
   "outputs": [
    {
     "data": {
      "text/plain": [
       "(2046325, 19)"
      ]
     },
     "execution_count": 5,
     "metadata": {},
     "output_type": "execute_result"
    }
   ],
   "source": [
    "# Verificando a quantidade de linhas e colunas do DataFrame\n",
    "df_gov.shape"
   ]
  },
  {
   "cell_type": "code",
   "execution_count": 6,
   "metadata": {},
   "outputs": [
    {
     "name": "stdout",
     "output_type": "stream",
     "text": [
      "<class 'pandas.core.frame.DataFrame'>\n",
      "Int64Index: 2046325 entries, 0 to 105507\n",
      "Data columns (total 19 columns):\n",
      " #   Column                  Dtype  \n",
      "---  ------                  -----  \n",
      " 0   Região                  object \n",
      " 1   UF                      object \n",
      " 2   Cidade                  object \n",
      " 3   Sexo                    object \n",
      " 4   Faixa Etária            object \n",
      " 5   Data Finalização        object \n",
      " 6   Tempo Resposta          float64\n",
      " 7   Nome Fantasia           object \n",
      " 8   Segmento de Mercado     object \n",
      " 9   Área                    object \n",
      " 10  Assunto                 object \n",
      " 11  Grupo Problema          object \n",
      " 12  Problema                object \n",
      " 13  Como Comprou Contratou  object \n",
      " 14  Procurou Empresa        object \n",
      " 15  Respondida              object \n",
      " 16  Situação                object \n",
      " 17  Avaliação Reclamação    object \n",
      " 18  Nota do Consumidor      float64\n",
      "dtypes: float64(2), object(17)\n",
      "memory usage: 312.2+ MB\n"
     ]
    }
   ],
   "source": [
    "# Info do dataset\n",
    "df_gov.info()"
   ]
  },
  {
   "cell_type": "code",
   "execution_count": 7,
   "metadata": {},
   "outputs": [
    {
     "data": {
      "text/html": [
       "<div>\n",
       "<style scoped>\n",
       "    .dataframe tbody tr th:only-of-type {\n",
       "        vertical-align: middle;\n",
       "    }\n",
       "\n",
       "    .dataframe tbody tr th {\n",
       "        vertical-align: top;\n",
       "    }\n",
       "\n",
       "    .dataframe thead th {\n",
       "        text-align: right;\n",
       "    }\n",
       "</style>\n",
       "<table border=\"1\" class=\"dataframe\">\n",
       "  <thead>\n",
       "    <tr style=\"text-align: right;\">\n",
       "      <th></th>\n",
       "      <th>Tempo Resposta</th>\n",
       "      <th>Nota do Consumidor</th>\n",
       "    </tr>\n",
       "  </thead>\n",
       "  <tbody>\n",
       "    <tr>\n",
       "      <th>count</th>\n",
       "      <td>2.007793e+06</td>\n",
       "      <td>1.024623e+06</td>\n",
       "    </tr>\n",
       "    <tr>\n",
       "      <th>mean</th>\n",
       "      <td>6.525656e+00</td>\n",
       "      <td>2.858503e+00</td>\n",
       "    </tr>\n",
       "    <tr>\n",
       "      <th>std</th>\n",
       "      <td>3.064824e+00</td>\n",
       "      <td>1.790878e+00</td>\n",
       "    </tr>\n",
       "    <tr>\n",
       "      <th>min</th>\n",
       "      <td>0.000000e+00</td>\n",
       "      <td>1.000000e+00</td>\n",
       "    </tr>\n",
       "    <tr>\n",
       "      <th>25%</th>\n",
       "      <td>4.000000e+00</td>\n",
       "      <td>1.000000e+00</td>\n",
       "    </tr>\n",
       "    <tr>\n",
       "      <th>50%</th>\n",
       "      <td>7.000000e+00</td>\n",
       "      <td>3.000000e+00</td>\n",
       "    </tr>\n",
       "    <tr>\n",
       "      <th>75%</th>\n",
       "      <td>9.000000e+00</td>\n",
       "      <td>5.000000e+00</td>\n",
       "    </tr>\n",
       "    <tr>\n",
       "      <th>max</th>\n",
       "      <td>1.600000e+01</td>\n",
       "      <td>5.000000e+00</td>\n",
       "    </tr>\n",
       "  </tbody>\n",
       "</table>\n",
       "</div>"
      ],
      "text/plain": [
       "       Tempo Resposta  Nota do Consumidor\n",
       "count    2.007793e+06        1.024623e+06\n",
       "mean     6.525656e+00        2.858503e+00\n",
       "std      3.064824e+00        1.790878e+00\n",
       "min      0.000000e+00        1.000000e+00\n",
       "25%      4.000000e+00        1.000000e+00\n",
       "50%      7.000000e+00        3.000000e+00\n",
       "75%      9.000000e+00        5.000000e+00\n",
       "max      1.600000e+01        5.000000e+00"
      ]
     },
     "execution_count": 7,
     "metadata": {},
     "output_type": "execute_result"
    }
   ],
   "source": [
    "# Descrição do dataset \n",
    "df_gov.describe()"
   ]
  },
  {
   "cell_type": "markdown",
   "metadata": {},
   "source": [
    "### Verificando valores ausentes"
   ]
  },
  {
   "cell_type": "code",
   "execution_count": 8,
   "metadata": {},
   "outputs": [
    {
     "name": "stdout",
     "output_type": "stream",
     "text": [
      "O Dataset tem 2.73 % de valores ausentes.\n"
     ]
    }
   ],
   "source": [
    "# Calcula o total de células no dataset\n",
    "totalCells = np.product(df_gov.shape)\n",
    "\n",
    "# Conta o número de valores ausentes por coluna\n",
    "missingCount = df_gov.isnull().sum()\n",
    "\n",
    "# Calcula o total de valores ausentes\n",
    "totalMissing = missingCount.sum()\n",
    "\n",
    "# Calcula o percentual de valores ausentes\n",
    "print(\"O Dataset tem\", round(((totalMissing/totalCells) * 100), 2), \"%\", \"de valores ausentes.\")"
   ]
  },
  {
   "cell_type": "code",
   "execution_count": 9,
   "metadata": {},
   "outputs": [
    {
     "name": "stdout",
     "output_type": "stream",
     "text": [
      "O dataset tem 19 colunas.\n",
      "Encontrado: 4 colunas que têm valores ausentes.\n"
     ]
    },
    {
     "data": {
      "text/html": [
       "<div>\n",
       "<style scoped>\n",
       "    .dataframe tbody tr th:only-of-type {\n",
       "        vertical-align: middle;\n",
       "    }\n",
       "\n",
       "    .dataframe tbody tr th {\n",
       "        vertical-align: top;\n",
       "    }\n",
       "\n",
       "    .dataframe thead th {\n",
       "        text-align: right;\n",
       "    }\n",
       "</style>\n",
       "<table border=\"1\" class=\"dataframe\">\n",
       "  <thead>\n",
       "    <tr style=\"text-align: right;\">\n",
       "      <th></th>\n",
       "      <th>Valores Ausentes</th>\n",
       "      <th>% de Valores Ausentes</th>\n",
       "      <th>Dtype</th>\n",
       "    </tr>\n",
       "  </thead>\n",
       "  <tbody>\n",
       "    <tr>\n",
       "      <th>Nota do Consumidor</th>\n",
       "      <td>1021702</td>\n",
       "      <td>49.93</td>\n",
       "      <td>float64</td>\n",
       "    </tr>\n",
       "    <tr>\n",
       "      <th>Tempo Resposta</th>\n",
       "      <td>38532</td>\n",
       "      <td>1.88</td>\n",
       "      <td>float64</td>\n",
       "    </tr>\n",
       "    <tr>\n",
       "      <th>Sexo</th>\n",
       "      <td>155</td>\n",
       "      <td>0.01</td>\n",
       "      <td>object</td>\n",
       "    </tr>\n",
       "    <tr>\n",
       "      <th>Avaliação Reclamação</th>\n",
       "      <td>3</td>\n",
       "      <td>0.00</td>\n",
       "      <td>object</td>\n",
       "    </tr>\n",
       "  </tbody>\n",
       "</table>\n",
       "</div>"
      ],
      "text/plain": [
       "                      Valores Ausentes  % de Valores Ausentes    Dtype\n",
       "Nota do Consumidor             1021702                  49.93  float64\n",
       "Tempo Resposta                   38532                   1.88  float64\n",
       "Sexo                               155                   0.01   object\n",
       "Avaliação Reclamação                 3                   0.00   object"
      ]
     },
     "execution_count": 9,
     "metadata": {},
     "output_type": "execute_result"
    }
   ],
   "source": [
    "# Total de valores ausentes\n",
    "mis_val = df_gov.isnull().sum()\n",
    "\n",
    "# Porcentagem de valores ausentes\n",
    "mis_val_percent = 100 * mis_val / len(df_gov)\n",
    "\n",
    "# Tipo de dado das colunas com valores ausentes\n",
    "mis_val_dtype = df_gov.dtypes\n",
    "\n",
    "# Cria uma tabela com os resultados\n",
    "mis_val_table = pd.concat([mis_val, mis_val_percent, mis_val_dtype], axis=1)\n",
    "\n",
    "# Renomear as colunas\n",
    "mis_val_table_ren_columns = mis_val_table.rename(\n",
    "columns = {0 : 'Valores Ausentes', 1 : '% de Valores Ausentes', 2: 'Dtype'})\n",
    "\n",
    "# Classifica a tabela por porcentagem de valores ausentes de forma decrescente e remove colunas sem valores faltantes\n",
    "mis_val_table_ren_columns = mis_val_table_ren_columns[mis_val_table_ren_columns.iloc[:,0] != 0].sort_values('% de Valores Ausentes', ascending = False).round(2)\n",
    "\n",
    "# Print \n",
    "print (\"O dataset tem \" + str(df_gov.shape[1]) + \" colunas.\\n\"\n",
    "        \"Encontrado: \" + str(mis_val_table_ren_columns.shape[0]) + \" colunas que têm valores ausentes.\")\n",
    "\n",
    "# Retorna o dataframe com informações ausentes\n",
    "mis_val_table_ren_columns"
   ]
  },
  {
   "attachments": {},
   "cell_type": "markdown",
   "metadata": {},
   "source": [
    "> Vamos adotar o seguinte procedimento para cada coluna:\n",
    "\n",
    "- Coluna 'Nota do Consumidor' -> Será imputado valores utilizando o método de preenchimento progressivo (forward fill).\n",
    "- Coluna 'Tempo Resposta' -> será imputado o valor 0(Zero) para os valores NaN - Pois são reclamações que não foram respondidas.\n",
    "- Coluna 'Sexo' -> será imputado o valor 'O'(Outros) para os valores NaN\n",
    "- Coluna 'Avaliação Reclamação' -> Dados Ausentes seram removidos"
   ]
  },
  {
   "cell_type": "code",
   "execution_count": 10,
   "metadata": {},
   "outputs": [],
   "source": [
    "# Imputando na coluna 'Nota do Consumidor' valores utilizando o método (forward fill)\n",
    "df_gov['Nota do Consumidor'] = df_gov['Nota do Consumidor'].fillna(method='ffill')\n",
    "\n",
    "# Imputando na coluna 'Tempo Resposta' o valor 0(Zero) nos valores NaN\n",
    "df_gov['Tempo Resposta'].fillna(0, inplace=True)\n",
    "\n",
    "# Imputando na coluna 'Sexo' o Valor O(Outros) nos Valores NaN\n",
    "df_gov['Sexo'].fillna('O', inplace=True)\n",
    "\n",
    "# Eliminando valores ausentes na coluna 'Avaliação Reclamação'\n",
    "df_gov.dropna(inplace=True)"
   ]
  },
  {
   "cell_type": "code",
   "execution_count": 11,
   "metadata": {},
   "outputs": [
    {
     "name": "stdout",
     "output_type": "stream",
     "text": [
      "O Dataset tem 0.0 % de valores ausentes.\n"
     ]
    }
   ],
   "source": [
    "# Calcula o total de células no dataset\n",
    "totalCells = np.product(df_gov.shape)\n",
    "\n",
    "# Conta o número de valores ausentes por coluna\n",
    "missingCount = df_gov.isnull().sum()\n",
    "\n",
    "# Calcula o total de valores ausentes\n",
    "totalMissing = missingCount.sum()\n",
    "\n",
    "# Calcula o percentual de valores ausentes\n",
    "print(\"O Dataset tem\", round(((totalMissing/totalCells) * 100), 2), \"%\", \"de valores ausentes.\")"
   ]
  },
  {
   "cell_type": "markdown",
   "metadata": {},
   "source": [
    "> Dataset agora sem valores ausentes"
   ]
  },
  {
   "cell_type": "markdown",
   "metadata": {},
   "source": [
    "### Verificando/Eliminando linhas duplicadas"
   ]
  },
  {
   "cell_type": "code",
   "execution_count": 12,
   "metadata": {},
   "outputs": [
    {
     "name": "stdout",
     "output_type": "stream",
     "text": [
      "5004 linhas duplicadas foram encontradas e removidas.\n"
     ]
    }
   ],
   "source": [
    "# Conta a quantidade de linhas do dataframe\n",
    "old = df_gov.shape[0]\n",
    "\n",
    "# Elimina/apaga as linhas duplicadas\n",
    "df_gov.drop_duplicates(inplace = True)\n",
    "\n",
    "# Conta a quantidade de linhas do dataframe (Novo dataframe)\n",
    "new = df_gov.shape[0]\n",
    "\n",
    "# Verifica a quandidade de linha duplicadas\n",
    "count = old - new\n",
    "if (count == 0):\n",
    "    print(\"Nenhuma linha duplicada foi encontrada.\")\n",
    "else:\n",
    "    print(f\"{count} linhas duplicadas foram encontradas e removidas.\")"
   ]
  },
  {
   "cell_type": "code",
   "execution_count": 13,
   "metadata": {},
   "outputs": [
    {
     "data": {
      "text/plain": [
       "(2041318, 19)"
      ]
     },
     "execution_count": 13,
     "metadata": {},
     "output_type": "execute_result"
    }
   ],
   "source": [
    "# Verificando a quantidade de linhas e colunas do DataFrame\n",
    "df_gov.shape"
   ]
  },
  {
   "cell_type": "markdown",
   "metadata": {},
   "source": [
    "### Verificando valores únicos"
   ]
  },
  {
   "cell_type": "markdown",
   "metadata": {},
   "source": [
    "- Coluna 'Região'"
   ]
  },
  {
   "cell_type": "code",
   "execution_count": 14,
   "metadata": {},
   "outputs": [
    {
     "data": {
      "text/plain": [
       "array(['S ', 'NE', 'SE', 'N ', 'CO'], dtype=object)"
      ]
     },
     "execution_count": 14,
     "metadata": {},
     "output_type": "execute_result"
    }
   ],
   "source": [
    "df_gov['Região'].unique()"
   ]
  },
  {
   "cell_type": "markdown",
   "metadata": {},
   "source": [
    "- Coluna 'UF'"
   ]
  },
  {
   "cell_type": "code",
   "execution_count": 15,
   "metadata": {},
   "outputs": [
    {
     "data": {
      "text/plain": [
       "array(['SC', 'MA', 'RS', 'BA', 'RJ', 'SP', 'PE', 'AP', 'AM', 'PI', 'AL',\n",
       "       'RN', 'PA', 'DF', 'RR', 'CE', 'MS', 'MT', 'TO', 'SE', 'MG', 'GO',\n",
       "       'PB', 'ES', 'PR', 'AC', 'RO'], dtype=object)"
      ]
     },
     "execution_count": 15,
     "metadata": {},
     "output_type": "execute_result"
    }
   ],
   "source": [
    "df_gov['UF'].unique()"
   ]
  },
  {
   "cell_type": "markdown",
   "metadata": {},
   "source": [
    "- Coluna 'Sexo'"
   ]
  },
  {
   "cell_type": "code",
   "execution_count": 16,
   "metadata": {},
   "outputs": [
    {
     "data": {
      "text/plain": [
       "array(['M', 'F', 'O'], dtype=object)"
      ]
     },
     "execution_count": 16,
     "metadata": {},
     "output_type": "execute_result"
    }
   ],
   "source": [
    "df_gov['Sexo'].unique()"
   ]
  },
  {
   "cell_type": "markdown",
   "metadata": {},
   "source": [
    "- Coluna 'Procurou Empresa'"
   ]
  },
  {
   "cell_type": "code",
   "execution_count": 17,
   "metadata": {},
   "outputs": [
    {
     "data": {
      "text/plain": [
       "array(['S', 'N'], dtype=object)"
      ]
     },
     "execution_count": 17,
     "metadata": {},
     "output_type": "execute_result"
    }
   ],
   "source": [
    "df_gov['Procurou Empresa'].unique()"
   ]
  },
  {
   "cell_type": "markdown",
   "metadata": {},
   "source": [
    "- Coluna 'Respondida'"
   ]
  },
  {
   "cell_type": "code",
   "execution_count": 18,
   "metadata": {},
   "outputs": [
    {
     "data": {
      "text/plain": [
       "array(['N', 'S'], dtype=object)"
      ]
     },
     "execution_count": 18,
     "metadata": {},
     "output_type": "execute_result"
    }
   ],
   "source": [
    "df_gov['Respondida'].unique()"
   ]
  },
  {
   "cell_type": "markdown",
   "metadata": {},
   "source": [
    "- Coluna 'Situação'"
   ]
  },
  {
   "cell_type": "code",
   "execution_count": 19,
   "metadata": {},
   "outputs": [
    {
     "data": {
      "text/plain": [
       "array(['Finalizada avaliada', 'Finalizada não avaliada'], dtype=object)"
      ]
     },
     "execution_count": 19,
     "metadata": {},
     "output_type": "execute_result"
    }
   ],
   "source": [
    "df_gov['Situação'].unique()"
   ]
  },
  {
   "cell_type": "markdown",
   "metadata": {},
   "source": [
    "### Criando novas variáveis"
   ]
  },
  {
   "cell_type": "code",
   "execution_count": 20,
   "metadata": {},
   "outputs": [],
   "source": [
    "# Criando a variavel 'Solicitação' aonde cada linha vai receber o numero 1 como identificação\n",
    "df_gov['Solicitação'] = 1"
   ]
  },
  {
   "cell_type": "code",
   "execution_count": 21,
   "metadata": {},
   "outputs": [
    {
     "name": "stdout",
     "output_type": "stream",
     "text": [
      "<class 'pandas.core.frame.DataFrame'>\n",
      "Int64Index: 2041318 entries, 0 to 105507\n",
      "Data columns (total 20 columns):\n",
      " #   Column                  Dtype         \n",
      "---  ------                  -----         \n",
      " 0   Região                  object        \n",
      " 1   UF                      object        \n",
      " 2   Cidade                  object        \n",
      " 3   Sexo                    object        \n",
      " 4   Faixa Etária            object        \n",
      " 5   Data Finalização        datetime64[ns]\n",
      " 6   Tempo Resposta          float64       \n",
      " 7   Nome Fantasia           object        \n",
      " 8   Segmento de Mercado     object        \n",
      " 9   Área                    object        \n",
      " 10  Assunto                 object        \n",
      " 11  Grupo Problema          object        \n",
      " 12  Problema                object        \n",
      " 13  Como Comprou Contratou  object        \n",
      " 14  Procurou Empresa        object        \n",
      " 15  Respondida              object        \n",
      " 16  Situação                object        \n",
      " 17  Avaliação Reclamação    object        \n",
      " 18  Nota do Consumidor      float64       \n",
      " 19  Solicitação             int64         \n",
      "dtypes: datetime64[ns](1), float64(2), int64(1), object(16)\n",
      "memory usage: 327.1+ MB\n"
     ]
    }
   ],
   "source": [
    "# Transformando a coluna 'Data Finalização' de object para datetime\n",
    "df_gov['Data Finalização'] = pd.to_datetime(df_gov['Data Finalização'])\n",
    "\n",
    "# Informações do tipo dos dados das colunas\n",
    "df_gov.info()"
   ]
  },
  {
   "cell_type": "code",
   "execution_count": 22,
   "metadata": {},
   "outputs": [
    {
     "data": {
      "text/plain": [
       "array(['Janeiro', 'Fevereiro', 'Março', 'Abril', 'Maio', 'Junho', 'Julho',\n",
       "       'Agosto', 'Setembro', 'Outubro', 'Novembro', 'Dezembro'],\n",
       "      dtype=object)"
      ]
     },
     "execution_count": 22,
     "metadata": {},
     "output_type": "execute_result"
    }
   ],
   "source": [
    "# Criando a variável Mes(Número do mês)\n",
    "df_gov['Mes Finalização'] = df_gov['Data Finalização'].dt.month\n",
    "\n",
    "# Criando a variável Mes Nome(Com o nome do mês)\n",
    "df_gov['Mes Nome Finalização'] = 'NaN'\n",
    "\n",
    "df_gov.loc[df_gov['Mes Finalização'] == 1, 'Mes Nome Finalização'] = 'Janeiro'\n",
    "df_gov.loc[df_gov['Mes Finalização'] == 2, 'Mes Nome Finalização'] = 'Fevereiro'\n",
    "df_gov.loc[df_gov['Mes Finalização'] == 3, 'Mes Nome Finalização'] = 'Março'\n",
    "df_gov.loc[df_gov['Mes Finalização'] == 4, 'Mes Nome Finalização'] = 'Abril'\n",
    "df_gov.loc[df_gov['Mes Finalização'] == 5, 'Mes Nome Finalização'] = 'Maio'\n",
    "df_gov.loc[df_gov['Mes Finalização'] == 6, 'Mes Nome Finalização'] = 'Junho'\n",
    "df_gov.loc[df_gov['Mes Finalização'] == 7, 'Mes Nome Finalização'] = 'Julho'\n",
    "df_gov.loc[df_gov['Mes Finalização'] == 8, 'Mes Nome Finalização'] = 'Agosto'\n",
    "df_gov.loc[df_gov['Mes Finalização'] == 9, 'Mes Nome Finalização'] = 'Setembro'\n",
    "df_gov.loc[df_gov['Mes Finalização'] == 10, 'Mes Nome Finalização'] = 'Outubro'\n",
    "df_gov.loc[df_gov['Mes Finalização'] == 11, 'Mes Nome Finalização'] = 'Novembro'\n",
    "df_gov.loc[df_gov['Mes Finalização'] == 12, 'Mes Nome Finalização'] = 'Dezembro'\n",
    "\n",
    "# Verificando valore únicos\n",
    "df_gov['Mes Nome Finalização'].unique()"
   ]
  },
  {
   "cell_type": "code",
   "execution_count": 23,
   "metadata": {},
   "outputs": [
    {
     "data": {
      "text/plain": [
       "array(['Quarta-Feira', 'Sábado', 'Terça-Feira', 'Segunda-Feira',\n",
       "       'Domingo', 'Quinta-Feira', 'Sexta-Feira'], dtype=object)"
      ]
     },
     "execution_count": 23,
     "metadata": {},
     "output_type": "execute_result"
    }
   ],
   "source": [
    "# Criando a variável Dia da Semana(Número do Dia da Semana)\n",
    "df_gov['Dia Semana Finalização'] = df_gov['Data Finalização'].dt.weekday\n",
    "\n",
    "# Criando a variável Dia Semana Nome Finalização(Com o nome do dia da semana)\n",
    "df_gov['Dia Semana Nome Finalização'] = 'NaN'\n",
    "\n",
    "df_gov.loc[df_gov['Dia Semana Finalização'] == 0, 'Dia Semana Nome Finalização'] = 'Segunda-Feira'\n",
    "df_gov.loc[df_gov['Dia Semana Finalização'] == 1, 'Dia Semana Nome Finalização'] = 'Terça-Feira'\n",
    "df_gov.loc[df_gov['Dia Semana Finalização'] == 2, 'Dia Semana Nome Finalização'] = 'Quarta-Feira'\n",
    "df_gov.loc[df_gov['Dia Semana Finalização'] == 3, 'Dia Semana Nome Finalização'] = 'Quinta-Feira'\n",
    "df_gov.loc[df_gov['Dia Semana Finalização'] == 4, 'Dia Semana Nome Finalização'] = 'Sexta-Feira'\n",
    "df_gov.loc[df_gov['Dia Semana Finalização'] == 5, 'Dia Semana Nome Finalização'] = 'Sábado'\n",
    "df_gov.loc[df_gov['Dia Semana Finalização'] == 6, 'Dia Semana Nome Finalização'] = 'Domingo'\n",
    "\n",
    "# Verificando valore únicos\n",
    "df_gov['Dia Semana Nome Finalização'].unique()"
   ]
  },
  {
   "cell_type": "code",
   "execution_count": 24,
   "metadata": {},
   "outputs": [
    {
     "data": {
      "text/html": [
       "<div>\n",
       "<style scoped>\n",
       "    .dataframe tbody tr th:only-of-type {\n",
       "        vertical-align: middle;\n",
       "    }\n",
       "\n",
       "    .dataframe tbody tr th {\n",
       "        vertical-align: top;\n",
       "    }\n",
       "\n",
       "    .dataframe thead th {\n",
       "        text-align: right;\n",
       "    }\n",
       "</style>\n",
       "<table border=\"1\" class=\"dataframe\">\n",
       "  <thead>\n",
       "    <tr style=\"text-align: right;\">\n",
       "      <th></th>\n",
       "      <th>Região</th>\n",
       "      <th>UF</th>\n",
       "      <th>Cidade</th>\n",
       "      <th>Sexo</th>\n",
       "      <th>Faixa Etária</th>\n",
       "      <th>Data Finalização</th>\n",
       "      <th>Tempo Resposta</th>\n",
       "      <th>Nome Fantasia</th>\n",
       "      <th>Segmento de Mercado</th>\n",
       "      <th>Área</th>\n",
       "      <th>Assunto</th>\n",
       "      <th>Grupo Problema</th>\n",
       "      <th>Problema</th>\n",
       "      <th>Como Comprou Contratou</th>\n",
       "      <th>Procurou Empresa</th>\n",
       "      <th>Respondida</th>\n",
       "      <th>Situação</th>\n",
       "      <th>Avaliação Reclamação</th>\n",
       "      <th>Nota do Consumidor</th>\n",
       "      <th>Solicitação</th>\n",
       "      <th>Mes Finalização</th>\n",
       "      <th>Mes Nome Finalização</th>\n",
       "      <th>Dia Semana Finalização</th>\n",
       "      <th>Dia Semana Nome Finalização</th>\n",
       "    </tr>\n",
       "  </thead>\n",
       "  <tbody>\n",
       "    <tr>\n",
       "      <th>0</th>\n",
       "      <td>S</td>\n",
       "      <td>SC</td>\n",
       "      <td>Florianópolis</td>\n",
       "      <td>M</td>\n",
       "      <td>entre 51 a 60 anos</td>\n",
       "      <td>2022-01-19</td>\n",
       "      <td>0.0</td>\n",
       "      <td>Banco BV (antigo Banco Votorantim)</td>\n",
       "      <td>Bancos, Financeiras e Administradoras de Cartão</td>\n",
       "      <td>Serviços Financeiros</td>\n",
       "      <td>Financiamentos de Veículos / Leasing</td>\n",
       "      <td>Cobrança / Contestação</td>\n",
       "      <td>Cobrança por serviço/produto não contratado / ...</td>\n",
       "      <td>Loja física</td>\n",
       "      <td>S</td>\n",
       "      <td>N</td>\n",
       "      <td>Finalizada avaliada</td>\n",
       "      <td>Não Resolvida</td>\n",
       "      <td>1.0</td>\n",
       "      <td>1</td>\n",
       "      <td>1</td>\n",
       "      <td>Janeiro</td>\n",
       "      <td>2</td>\n",
       "      <td>Quarta-Feira</td>\n",
       "    </tr>\n",
       "    <tr>\n",
       "      <th>1</th>\n",
       "      <td>NE</td>\n",
       "      <td>MA</td>\n",
       "      <td>Timon</td>\n",
       "      <td>M</td>\n",
       "      <td>mais de 70 anos</td>\n",
       "      <td>2022-01-01</td>\n",
       "      <td>0.0</td>\n",
       "      <td>Oi Fixo</td>\n",
       "      <td>Operadoras de Telecomunicações (Telefonia, Int...</td>\n",
       "      <td>Telecomunicações</td>\n",
       "      <td>Internet Fixa</td>\n",
       "      <td>Atendimento / SAC</td>\n",
       "      <td>Dificuldade de contato / acesso a outros canai...</td>\n",
       "      <td>Internet</td>\n",
       "      <td>S</td>\n",
       "      <td>N</td>\n",
       "      <td>Finalizada não avaliada</td>\n",
       "      <td>Não Avaliada</td>\n",
       "      <td>1.0</td>\n",
       "      <td>1</td>\n",
       "      <td>1</td>\n",
       "      <td>Janeiro</td>\n",
       "      <td>5</td>\n",
       "      <td>Sábado</td>\n",
       "    </tr>\n",
       "    <tr>\n",
       "      <th>2</th>\n",
       "      <td>S</td>\n",
       "      <td>RS</td>\n",
       "      <td>Santa Maria</td>\n",
       "      <td>M</td>\n",
       "      <td>entre 21 a 30 anos</td>\n",
       "      <td>2022-01-01</td>\n",
       "      <td>10.0</td>\n",
       "      <td>Vivo - Telefônica</td>\n",
       "      <td>Operadoras de Telecomunicações (Telefonia, Int...</td>\n",
       "      <td>Telecomunicações</td>\n",
       "      <td>Internet Fixa</td>\n",
       "      <td>Cobrança / Contestação</td>\n",
       "      <td>Cobrança em duplicidade / Cobrança referente a...</td>\n",
       "      <td>Internet</td>\n",
       "      <td>S</td>\n",
       "      <td>S</td>\n",
       "      <td>Finalizada não avaliada</td>\n",
       "      <td>Não Avaliada</td>\n",
       "      <td>1.0</td>\n",
       "      <td>1</td>\n",
       "      <td>1</td>\n",
       "      <td>Janeiro</td>\n",
       "      <td>5</td>\n",
       "      <td>Sábado</td>\n",
       "    </tr>\n",
       "    <tr>\n",
       "      <th>3</th>\n",
       "      <td>NE</td>\n",
       "      <td>BA</td>\n",
       "      <td>Teixeira de Freitas</td>\n",
       "      <td>M</td>\n",
       "      <td>entre 21 a 30 anos</td>\n",
       "      <td>2022-01-01</td>\n",
       "      <td>0.0</td>\n",
       "      <td>Uber</td>\n",
       "      <td>Empresas de Intermediação de Serviços / Negócios</td>\n",
       "      <td>Demais Serviços</td>\n",
       "      <td>Aplicativo de mobilidade urbana</td>\n",
       "      <td>Contrato / Oferta</td>\n",
       "      <td>Dificuldade para contratar o serviço (problema...</td>\n",
       "      <td>Não comprei / contratei</td>\n",
       "      <td>S</td>\n",
       "      <td>N</td>\n",
       "      <td>Finalizada não avaliada</td>\n",
       "      <td>Não Avaliada</td>\n",
       "      <td>1.0</td>\n",
       "      <td>1</td>\n",
       "      <td>1</td>\n",
       "      <td>Janeiro</td>\n",
       "      <td>5</td>\n",
       "      <td>Sábado</td>\n",
       "    </tr>\n",
       "    <tr>\n",
       "      <th>4</th>\n",
       "      <td>SE</td>\n",
       "      <td>RJ</td>\n",
       "      <td>Rio de Janeiro</td>\n",
       "      <td>M</td>\n",
       "      <td>entre 41 a 50 anos</td>\n",
       "      <td>2022-01-04</td>\n",
       "      <td>0.0</td>\n",
       "      <td>Central Nacional Unimed</td>\n",
       "      <td>Operadoras de Planos de Saúde e Administradora...</td>\n",
       "      <td>Saúde</td>\n",
       "      <td>Plano de Saúde (convênio, autogestão, seguro s...</td>\n",
       "      <td>Atendimento / SAC</td>\n",
       "      <td>SAC - Demanda não resolvida / não respondida /...</td>\n",
       "      <td>Domicílio</td>\n",
       "      <td>S</td>\n",
       "      <td>N</td>\n",
       "      <td>Finalizada não avaliada</td>\n",
       "      <td>Não Avaliada</td>\n",
       "      <td>1.0</td>\n",
       "      <td>1</td>\n",
       "      <td>1</td>\n",
       "      <td>Janeiro</td>\n",
       "      <td>1</td>\n",
       "      <td>Terça-Feira</td>\n",
       "    </tr>\n",
       "  </tbody>\n",
       "</table>\n",
       "</div>"
      ],
      "text/plain": [
       "  Região  UF               Cidade Sexo        Faixa Etária Data Finalização  \\\n",
       "0     S   SC        Florianópolis    M  entre 51 a 60 anos       2022-01-19   \n",
       "1     NE  MA                Timon    M     mais de 70 anos       2022-01-01   \n",
       "2     S   RS          Santa Maria    M  entre 21 a 30 anos       2022-01-01   \n",
       "3     NE  BA  Teixeira de Freitas    M  entre 21 a 30 anos       2022-01-01   \n",
       "4     SE  RJ       Rio de Janeiro    M  entre 41 a 50 anos       2022-01-04   \n",
       "\n",
       "   Tempo Resposta                       Nome Fantasia  \\\n",
       "0             0.0  Banco BV (antigo Banco Votorantim)   \n",
       "1             0.0                             Oi Fixo   \n",
       "2            10.0                   Vivo - Telefônica   \n",
       "3             0.0                                Uber   \n",
       "4             0.0             Central Nacional Unimed   \n",
       "\n",
       "                                 Segmento de Mercado                  Área  \\\n",
       "0    Bancos, Financeiras e Administradoras de Cartão  Serviços Financeiros   \n",
       "1  Operadoras de Telecomunicações (Telefonia, Int...      Telecomunicações   \n",
       "2  Operadoras de Telecomunicações (Telefonia, Int...      Telecomunicações   \n",
       "3   Empresas de Intermediação de Serviços / Negócios      Demais Serviços    \n",
       "4  Operadoras de Planos de Saúde e Administradora...                 Saúde   \n",
       "\n",
       "                                             Assunto          Grupo Problema  \\\n",
       "0               Financiamentos de Veículos / Leasing  Cobrança / Contestação   \n",
       "1                                      Internet Fixa       Atendimento / SAC   \n",
       "2                                      Internet Fixa  Cobrança / Contestação   \n",
       "3                    Aplicativo de mobilidade urbana       Contrato / Oferta   \n",
       "4  Plano de Saúde (convênio, autogestão, seguro s...       Atendimento / SAC   \n",
       "\n",
       "                                            Problema   Como Comprou Contratou  \\\n",
       "0  Cobrança por serviço/produto não contratado / ...              Loja física   \n",
       "1  Dificuldade de contato / acesso a outros canai...                 Internet   \n",
       "2  Cobrança em duplicidade / Cobrança referente a...                 Internet   \n",
       "3  Dificuldade para contratar o serviço (problema...  Não comprei / contratei   \n",
       "4  SAC - Demanda não resolvida / não respondida /...                Domicílio   \n",
       "\n",
       "  Procurou Empresa Respondida                 Situação Avaliação Reclamação  \\\n",
       "0                S          N      Finalizada avaliada        Não Resolvida   \n",
       "1                S          N  Finalizada não avaliada         Não Avaliada   \n",
       "2                S          S  Finalizada não avaliada         Não Avaliada   \n",
       "3                S          N  Finalizada não avaliada         Não Avaliada   \n",
       "4                S          N  Finalizada não avaliada         Não Avaliada   \n",
       "\n",
       "   Nota do Consumidor  Solicitação  Mes Finalização Mes Nome Finalização  \\\n",
       "0                 1.0            1                1              Janeiro   \n",
       "1                 1.0            1                1              Janeiro   \n",
       "2                 1.0            1                1              Janeiro   \n",
       "3                 1.0            1                1              Janeiro   \n",
       "4                 1.0            1                1              Janeiro   \n",
       "\n",
       "   Dia Semana Finalização Dia Semana Nome Finalização  \n",
       "0                       2                Quarta-Feira  \n",
       "1                       5                      Sábado  \n",
       "2                       5                      Sábado  \n",
       "3                       5                      Sábado  \n",
       "4                       1                 Terça-Feira  "
      ]
     },
     "execution_count": 24,
     "metadata": {},
     "output_type": "execute_result"
    }
   ],
   "source": [
    "# Amostra\n",
    "df_gov.head()"
   ]
  },
  {
   "cell_type": "markdown",
   "metadata": {},
   "source": [
    "### Salvando dataset em um arquivo .csv"
   ]
  },
  {
   "cell_type": "code",
   "execution_count": 25,
   "metadata": {},
   "outputs": [],
   "source": [
    "# Salvando na pasta 'Data'\n",
    "df_gov.to_csv('../Data/Data_for_clear/dfGov.csv', sep=';', index=False)\n",
    "df_gov.to_parquet('../Data/Data_for_clear/dfGov.gzip', index=False)"
   ]
  }
 ],
 "metadata": {
  "kernelspec": {
   "display_name": ".venv",
   "language": "python",
   "name": "python3"
  },
  "language_info": {
   "codemirror_mode": {
    "name": "ipython",
    "version": 3
   },
   "file_extension": ".py",
   "mimetype": "text/x-python",
   "name": "python",
   "nbconvert_exporter": "python",
   "pygments_lexer": "ipython3",
   "version": "3.11.1"
  },
  "orig_nbformat": 4,
  "vscode": {
   "interpreter": {
    "hash": "c1b9c50033945d3e92fb3b2891a807212a10bf64ad3eadfb2b0fbe268d1868fa"
   }
  }
 },
 "nbformat": 4,
 "nbformat_minor": 2
}
