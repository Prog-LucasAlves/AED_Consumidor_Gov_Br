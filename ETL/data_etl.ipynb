{
 "cells": [
  {
   "cell_type": "markdown",
   "metadata": {},
   "source": [
    "## Dados sobre as reclamações realizadas no site:"
   ]
  },
  {
   "cell_type": "markdown",
   "metadata": {},
   "source": [
    "- https://www.consumidor.gov.br/pages/principal/?1652964614719\n",
    "\n",
    "- https://www.consumidor.gov.br/pages/dadosabertos/externo/"
   ]
  },
  {
   "attachments": {},
   "cell_type": "markdown",
   "metadata": {},
   "source": [
    "- Dados referentes ao ano de 2021 (Janeiro até Dezembro)\n",
    "- Dados referentes ao ano de 2022 (Janeiro até Dezembro)\n",
    "- Dados referentes ao ano de 2023 (Janeiro até Dezembro)\n",
    "- Dados referentes ao ano de 2024 (Janeiro até Dezembro)\n",
    "- Dados referentes ao ano de 2025 (Até Janeiro)"
   ]
  },
  {
   "cell_type": "markdown",
   "metadata": {},
   "source": [
    "### Realizando o Pre-Processamento dos Dados"
   ]
  },
  {
   "cell_type": "markdown",
   "metadata": {},
   "source": [
    "### Bibliotecas Utilizadas:"
   ]
  },
  {
   "cell_type": "code",
   "execution_count": 1,
   "metadata": {},
   "outputs": [],
   "source": [
    "# Imports\n",
    "\n",
    "# Manipulaçao dos dados\n",
    "import pandas as pd\n",
    "import numpy as np\n",
    "\n",
    "# Manipulação de arquivos/sistema\n",
    "import glob\n",
    "import os\n",
    "\n",
    "# Ignore Warning(Avisos)\n",
    "import warnings\n",
    "\n",
    "warnings.filterwarnings(\"ignore\")\n",
    "\n",
    "pd.set_option('display.max_columns', 100)"
   ]
  },
  {
   "cell_type": "markdown",
   "metadata": {},
   "source": [
    "### Carregando a base de dados:"
   ]
  },
  {
   "cell_type": "code",
   "execution_count": 2,
   "metadata": {},
   "outputs": [],
   "source": [
    "# Unindo os dados dos meses de 2022(Janeiro Até Dezembro) - 2025(Até Janeiro).\n",
    "\n",
    "# Criando uma variável com a extensão do arquivo a ser lido\n",
    "extensao = 'csv'\n",
    "\n",
    "# Agrupando/Concatenando os arqquivos, tudo em um único DataFrame\n",
    "arquivos_csv = [i for i in glob.glob(f'../Data/Data_for_csv/*.{extensao}')]\n",
    "df_gov = pd.concat([pd.read_csv(f, sep=';') for f in arquivos_csv])"
   ]
  },
  {
   "cell_type": "markdown",
   "metadata": {},
   "source": [
    "### Ajustando o índice do dataset"
   ]
  },
  {
   "cell_type": "code",
   "execution_count": 5,
   "metadata": {},
   "outputs": [
    {
     "name": "stdout",
     "output_type": "stream",
     "text": [
      "Qtd. de índices duplicados:\n",
      "0\n",
      "++++++\n",
      "Qtd. de índices duplicados:\n",
      "0\n"
     ]
    }
   ],
   "source": [
    "# Verificando a quantidade de índices duplicados\n",
    "print('Qtd. de índices duplicados:')\n",
    "print(df_gov.index.duplicated().sum())\n",
    "\n",
    "# Criando um novo índice\n",
    "print('++++++')\n",
    "df_gov.reset_index(inplace=True, drop=True)\n",
    "\n",
    "# Verificando a quantidade de índices duplicados\n",
    "print('Qtd. de índices duplicados:')\n",
    "print(df_gov.index.duplicated().sum())"
   ]
  },
  {
   "cell_type": "markdown",
   "metadata": {},
   "source": [
    "### Informações do dataset"
   ]
  },
  {
   "cell_type": "code",
   "execution_count": 6,
   "metadata": {},
   "outputs": [
    {
     "data": {
      "text/plain": [
       "Index(['Região', 'UF', 'Cidade', 'Sexo', 'Faixa Etária', 'Data Finalização',\n",
       "       'Tempo Resposta', 'Nome Fantasia', 'Segmento de Mercado', 'Área',\n",
       "       'Assunto', 'Grupo Problema', 'Problema', 'Como Comprou Contratou',\n",
       "       'Procurou Empresa', 'Respondida', 'Situação', 'Avaliação Reclamação',\n",
       "       'Nota do Consumidor'],\n",
       "      dtype='object')"
      ]
     },
     "execution_count": 6,
     "metadata": {},
     "output_type": "execute_result"
    }
   ],
   "source": [
    "# Verificando o nome das colunas do DataFrame\n",
    "df_gov.columns"
   ]
  },
  {
   "cell_type": "code",
   "execution_count": 7,
   "metadata": {},
   "outputs": [
    {
     "data": {
      "text/plain": [
       "(5137883, 19)"
      ]
     },
     "execution_count": 7,
     "metadata": {},
     "output_type": "execute_result"
    }
   ],
   "source": [
    "# Verificando a quantidade de linhas e colunas do DataFrame\n",
    "df_gov.shape"
   ]
  },
  {
   "cell_type": "code",
   "execution_count": 8,
   "metadata": {},
   "outputs": [
    {
     "name": "stdout",
     "output_type": "stream",
     "text": [
      "<class 'pandas.core.frame.DataFrame'>\n",
      "RangeIndex: 5137883 entries, 0 to 5137882\n",
      "Data columns (total 19 columns):\n",
      " #   Column                  Dtype  \n",
      "---  ------                  -----  \n",
      " 0   Região                  object \n",
      " 1   UF                      object \n",
      " 2   Cidade                  object \n",
      " 3   Sexo                    object \n",
      " 4   Faixa Etária            object \n",
      " 5   Data Finalização        object \n",
      " 6   Tempo Resposta          float64\n",
      " 7   Nome Fantasia           object \n",
      " 8   Segmento de Mercado     object \n",
      " 9   Área                    object \n",
      " 10  Assunto                 object \n",
      " 11  Grupo Problema          object \n",
      " 12  Problema                object \n",
      " 13  Como Comprou Contratou  object \n",
      " 14  Procurou Empresa        object \n",
      " 15  Respondida              object \n",
      " 16  Situação                object \n",
      " 17  Avaliação Reclamação    object \n",
      " 18  Nota do Consumidor      float64\n",
      "dtypes: float64(2), object(17)\n",
      "memory usage: 744.8+ MB\n"
     ]
    }
   ],
   "source": [
    "# Info do dataset\n",
    "df_gov.info()"
   ]
  },
  {
   "cell_type": "code",
   "execution_count": 9,
   "metadata": {},
   "outputs": [
    {
     "data": {
      "application/vnd.microsoft.datawrangler.viewer.v0+json": {
       "columns": [
        {
         "name": "index",
         "rawType": "object",
         "type": "string"
        },
        {
         "name": "Tempo Resposta",
         "rawType": "float64",
         "type": "float"
        },
        {
         "name": "Nota do Consumidor",
         "rawType": "float64",
         "type": "float"
        }
       ],
       "conversionMethod": "pd.DataFrame",
       "ref": "18599cf7-e1ac-4f0b-aaad-01a879a92009",
       "rows": [
        [
         "count",
         "5044307.0",
         "2589645.0"
        ],
        [
         "mean",
         "6.691790170582401",
         "2.863553498645567"
        ],
        [
         "std",
         "464.5633317499879",
         "1.7945388361502392"
        ],
        [
         "min",
         "-736876.0",
         "1.0"
        ],
        [
         "25%",
         "4.0",
         "1.0"
        ],
        [
         "50%",
         "7.0",
         "3.0"
        ],
        [
         "75%",
         "9.0",
         "5.0"
        ],
        [
         "max",
         "738654.0",
         "5.0"
        ]
       ],
       "shape": {
        "columns": 2,
        "rows": 8
       }
      },
      "text/html": [
       "<div>\n",
       "<style scoped>\n",
       "    .dataframe tbody tr th:only-of-type {\n",
       "        vertical-align: middle;\n",
       "    }\n",
       "\n",
       "    .dataframe tbody tr th {\n",
       "        vertical-align: top;\n",
       "    }\n",
       "\n",
       "    .dataframe thead th {\n",
       "        text-align: right;\n",
       "    }\n",
       "</style>\n",
       "<table border=\"1\" class=\"dataframe\">\n",
       "  <thead>\n",
       "    <tr style=\"text-align: right;\">\n",
       "      <th></th>\n",
       "      <th>Tempo Resposta</th>\n",
       "      <th>Nota do Consumidor</th>\n",
       "    </tr>\n",
       "  </thead>\n",
       "  <tbody>\n",
       "    <tr>\n",
       "      <th>count</th>\n",
       "      <td>5.044307e+06</td>\n",
       "      <td>2.589645e+06</td>\n",
       "    </tr>\n",
       "    <tr>\n",
       "      <th>mean</th>\n",
       "      <td>6.691790e+00</td>\n",
       "      <td>2.863553e+00</td>\n",
       "    </tr>\n",
       "    <tr>\n",
       "      <th>std</th>\n",
       "      <td>4.645633e+02</td>\n",
       "      <td>1.794539e+00</td>\n",
       "    </tr>\n",
       "    <tr>\n",
       "      <th>min</th>\n",
       "      <td>-7.368760e+05</td>\n",
       "      <td>1.000000e+00</td>\n",
       "    </tr>\n",
       "    <tr>\n",
       "      <th>25%</th>\n",
       "      <td>4.000000e+00</td>\n",
       "      <td>1.000000e+00</td>\n",
       "    </tr>\n",
       "    <tr>\n",
       "      <th>50%</th>\n",
       "      <td>7.000000e+00</td>\n",
       "      <td>3.000000e+00</td>\n",
       "    </tr>\n",
       "    <tr>\n",
       "      <th>75%</th>\n",
       "      <td>9.000000e+00</td>\n",
       "      <td>5.000000e+00</td>\n",
       "    </tr>\n",
       "    <tr>\n",
       "      <th>max</th>\n",
       "      <td>7.386540e+05</td>\n",
       "      <td>5.000000e+00</td>\n",
       "    </tr>\n",
       "  </tbody>\n",
       "</table>\n",
       "</div>"
      ],
      "text/plain": [
       "       Tempo Resposta  Nota do Consumidor\n",
       "count    5.044307e+06        2.589645e+06\n",
       "mean     6.691790e+00        2.863553e+00\n",
       "std      4.645633e+02        1.794539e+00\n",
       "min     -7.368760e+05        1.000000e+00\n",
       "25%      4.000000e+00        1.000000e+00\n",
       "50%      7.000000e+00        3.000000e+00\n",
       "75%      9.000000e+00        5.000000e+00\n",
       "max      7.386540e+05        5.000000e+00"
      ]
     },
     "execution_count": 9,
     "metadata": {},
     "output_type": "execute_result"
    }
   ],
   "source": [
    "# Descrição do dataset \n",
    "df_gov.describe()"
   ]
  },
  {
   "cell_type": "markdown",
   "metadata": {},
   "source": [
    "### Verificando valores ausentes"
   ]
  },
  {
   "cell_type": "code",
   "execution_count": 10,
   "metadata": {},
   "outputs": [
    {
     "name": "stdout",
     "output_type": "stream",
     "text": [
      "O Dataset tem 2.71 % de valores ausentes.\n"
     ]
    }
   ],
   "source": [
    "# Calcula o total de células no dataset\n",
    "totalCells = np.prod(df_gov.shape)\n",
    "\n",
    "# Conta o número de valores ausentes por coluna\n",
    "missingCount = df_gov.isnull().sum()\n",
    "\n",
    "# Calcula o total de valores ausentes\n",
    "totalMissing = missingCount.sum()\n",
    "\n",
    "# Calcula o percentual de valores ausentes\n",
    "print(\"O Dataset tem\", round(((totalMissing/totalCells) * 100), 2), \"%\", \"de valores ausentes.\")"
   ]
  },
  {
   "cell_type": "code",
   "execution_count": 11,
   "metadata": {},
   "outputs": [
    {
     "name": "stdout",
     "output_type": "stream",
     "text": [
      "O dataset tem 19 colunas.\n",
      "Encontrado: 4 colunas que têm valores ausentes.\n"
     ]
    },
    {
     "data": {
      "application/vnd.microsoft.datawrangler.viewer.v0+json": {
       "columns": [
        {
         "name": "index",
         "rawType": "object",
         "type": "string"
        },
        {
         "name": "Valores Ausentes",
         "rawType": "int64",
         "type": "integer"
        },
        {
         "name": "% de Valores Ausentes",
         "rawType": "float64",
         "type": "float"
        },
        {
         "name": "Dtype",
         "rawType": "object",
         "type": "unknown"
        }
       ],
       "conversionMethod": "pd.DataFrame",
       "ref": "d4d5635c-207c-44c3-ab96-b67edbc1775c",
       "rows": [
        [
         "Nota do Consumidor",
         "2548238",
         "49.6",
         "float64"
        ],
        [
         "Tempo Resposta",
         "93576",
         "1.82",
         "float64"
        ],
        [
         "Sexo",
         "318",
         "0.01",
         "object"
        ],
        [
         "Avaliação Reclamação",
         "6",
         "0.0",
         "object"
        ]
       ],
       "shape": {
        "columns": 3,
        "rows": 4
       }
      },
      "text/html": [
       "<div>\n",
       "<style scoped>\n",
       "    .dataframe tbody tr th:only-of-type {\n",
       "        vertical-align: middle;\n",
       "    }\n",
       "\n",
       "    .dataframe tbody tr th {\n",
       "        vertical-align: top;\n",
       "    }\n",
       "\n",
       "    .dataframe thead th {\n",
       "        text-align: right;\n",
       "    }\n",
       "</style>\n",
       "<table border=\"1\" class=\"dataframe\">\n",
       "  <thead>\n",
       "    <tr style=\"text-align: right;\">\n",
       "      <th></th>\n",
       "      <th>Valores Ausentes</th>\n",
       "      <th>% de Valores Ausentes</th>\n",
       "      <th>Dtype</th>\n",
       "    </tr>\n",
       "  </thead>\n",
       "  <tbody>\n",
       "    <tr>\n",
       "      <th>Nota do Consumidor</th>\n",
       "      <td>2548238</td>\n",
       "      <td>49.60</td>\n",
       "      <td>float64</td>\n",
       "    </tr>\n",
       "    <tr>\n",
       "      <th>Tempo Resposta</th>\n",
       "      <td>93576</td>\n",
       "      <td>1.82</td>\n",
       "      <td>float64</td>\n",
       "    </tr>\n",
       "    <tr>\n",
       "      <th>Sexo</th>\n",
       "      <td>318</td>\n",
       "      <td>0.01</td>\n",
       "      <td>object</td>\n",
       "    </tr>\n",
       "    <tr>\n",
       "      <th>Avaliação Reclamação</th>\n",
       "      <td>6</td>\n",
       "      <td>0.00</td>\n",
       "      <td>object</td>\n",
       "    </tr>\n",
       "  </tbody>\n",
       "</table>\n",
       "</div>"
      ],
      "text/plain": [
       "                      Valores Ausentes  % de Valores Ausentes    Dtype\n",
       "Nota do Consumidor             2548238                  49.60  float64\n",
       "Tempo Resposta                   93576                   1.82  float64\n",
       "Sexo                               318                   0.01   object\n",
       "Avaliação Reclamação                 6                   0.00   object"
      ]
     },
     "execution_count": 11,
     "metadata": {},
     "output_type": "execute_result"
    }
   ],
   "source": [
    "# Total de valores ausentes\n",
    "mis_val = df_gov.isnull().sum()\n",
    "\n",
    "# Porcentagem de valores ausentes\n",
    "mis_val_percent = 100 * mis_val / len(df_gov)\n",
    "\n",
    "# Tipo de dado das colunas com valores ausentes\n",
    "mis_val_dtype = df_gov.dtypes\n",
    "\n",
    "# Cria uma tabela com os resultados\n",
    "mis_val_table = pd.concat([mis_val, mis_val_percent, mis_val_dtype], axis=1)\n",
    "\n",
    "# Renomear as colunas\n",
    "mis_val_table_ren_columns = mis_val_table.rename(\n",
    "columns = {0 : 'Valores Ausentes', 1 : '% de Valores Ausentes', 2: 'Dtype'})\n",
    "\n",
    "# Classifica a tabela por porcentagem de valores ausentes de forma decrescente e remove colunas sem valores faltantes\n",
    "mis_val_table_ren_columns = mis_val_table_ren_columns[mis_val_table_ren_columns.iloc[:,0] != 0].sort_values('% de Valores Ausentes', ascending = False).round(2)\n",
    "\n",
    "# Print \n",
    "print (\"O dataset tem \" + str(df_gov.shape[1]) + \" colunas.\\n\"\n",
    "        \"Encontrado: \" + str(mis_val_table_ren_columns.shape[0]) + \" colunas que têm valores ausentes.\")\n",
    "\n",
    "# Retorna o dataframe com informações ausentes\n",
    "mis_val_table_ren_columns"
   ]
  },
  {
   "attachments": {},
   "cell_type": "markdown",
   "metadata": {},
   "source": [
    "> Vamos adotar o seguinte procedimento para cada coluna:\n",
    "\n",
    "- Coluna 'Nota do Consumidor' -> Será imputado valores utilizando o método de preenchimento progressivo (forward fill).\n",
    "- Coluna 'Tempo Resposta' -> será imputado o valor 0(Zero) para os valores NaN - Pois são reclamações que não foram respondidas.\n",
    "- Coluna 'Sexo' -> será imputado o valor 'O'(Outros) para os valores NaN\n",
    "- Coluna 'Avaliação Reclamação' -> Dados Ausentes seram removidos"
   ]
  },
  {
   "cell_type": "code",
   "execution_count": 12,
   "metadata": {},
   "outputs": [],
   "source": [
    "# Imputando na coluna 'Nota do Consumidor' valores utilizando o método (forward fill)\n",
    "df_gov['Nota do Consumidor'] = df_gov['Nota do Consumidor'].fillna(method='ffill')\n",
    "\n",
    "# Imputando na coluna 'Tempo Resposta' o valor 0(Zero) nos valores NaN\n",
    "df_gov['Tempo Resposta'].fillna(0, inplace=True)\n",
    "\n",
    "# Imputando na coluna 'Sexo' o Valor O(Outros) nos Valores NaN\n",
    "df_gov['Sexo'].fillna('O', inplace=True)\n",
    "\n",
    "# Eliminando valores ausentes na coluna 'Avaliação Reclamação'\n",
    "df_gov.dropna(inplace=True)"
   ]
  },
  {
   "cell_type": "code",
   "execution_count": 13,
   "metadata": {},
   "outputs": [
    {
     "name": "stdout",
     "output_type": "stream",
     "text": [
      "O Dataset tem 0.0 % de valores ausentes.\n"
     ]
    }
   ],
   "source": [
    "# Calcula o total de células no dataset\n",
    "totalCells = np.prod(df_gov.shape)\n",
    "\n",
    "# Conta o número de valores ausentes por coluna\n",
    "missingCount = df_gov.isnull().sum()\n",
    "\n",
    "# Calcula o total de valores ausentes\n",
    "totalMissing = missingCount.sum()\n",
    "\n",
    "# Calcula o percentual de valores ausentes\n",
    "print(\"O Dataset tem\", round(((totalMissing/totalCells) * 100), 2), \"%\", \"de valores ausentes.\")"
   ]
  },
  {
   "cell_type": "markdown",
   "metadata": {},
   "source": [
    "> Dataset agora sem valores ausentes"
   ]
  },
  {
   "cell_type": "markdown",
   "metadata": {},
   "source": [
    "### Verificando/Eliminando linhas duplicadas"
   ]
  },
  {
   "cell_type": "code",
   "execution_count": 14,
   "metadata": {},
   "outputs": [
    {
     "name": "stdout",
     "output_type": "stream",
     "text": [
      "19109 linhas duplicadas foram encontradas e removidas.\n"
     ]
    }
   ],
   "source": [
    "# Conta a quantidade de linhas do dataframe\n",
    "old = df_gov.shape[0]\n",
    "\n",
    "# Elimina/apaga as linhas duplicadas\n",
    "df_gov.drop_duplicates(inplace = True)\n",
    "\n",
    "# Conta a quantidade de linhas do dataframe (Novo dataframe)\n",
    "new = df_gov.shape[0]\n",
    "\n",
    "# Verifica a quandidade de linha duplicadas\n",
    "count = old - new\n",
    "if (count == 0):\n",
    "    print(\"Nenhuma linha duplicada foi encontrada.\")\n",
    "else:\n",
    "    print(f\"{count} linhas duplicadas foram encontradas e removidas.\")"
   ]
  },
  {
   "cell_type": "code",
   "execution_count": 15,
   "metadata": {},
   "outputs": [
    {
     "data": {
      "text/plain": [
       "(5118745, 19)"
      ]
     },
     "execution_count": 15,
     "metadata": {},
     "output_type": "execute_result"
    }
   ],
   "source": [
    "# Verificando a quantidade de linhas e colunas do DataFrame\n",
    "df_gov.shape"
   ]
  },
  {
   "cell_type": "markdown",
   "metadata": {},
   "source": [
    "### Verificando valores únicos"
   ]
  },
  {
   "cell_type": "markdown",
   "metadata": {},
   "source": [
    "- Coluna 'Região'"
   ]
  },
  {
   "cell_type": "code",
   "execution_count": 16,
   "metadata": {},
   "outputs": [
    {
     "data": {
      "text/plain": [
       "array(['NE', 'S ', 'SE', 'N ', 'CO'], dtype=object)"
      ]
     },
     "execution_count": 16,
     "metadata": {},
     "output_type": "execute_result"
    }
   ],
   "source": [
    "df_gov['Região'].unique()"
   ]
  },
  {
   "cell_type": "markdown",
   "metadata": {},
   "source": [
    "- Coluna 'UF'"
   ]
  },
  {
   "cell_type": "code",
   "execution_count": 17,
   "metadata": {},
   "outputs": [
    {
     "data": {
      "text/plain": [
       "array(['CE', 'RS', 'SP', 'RJ', 'MA', 'PA', 'PE', 'DF', 'PR', 'BA', 'SE',\n",
       "       'PI', 'TO', 'MS', 'RO', 'AM', 'RN', 'AL', 'PB', 'MG', 'SC', 'AC',\n",
       "       'ES', 'GO', 'MT', 'AP', 'RR'], dtype=object)"
      ]
     },
     "execution_count": 17,
     "metadata": {},
     "output_type": "execute_result"
    }
   ],
   "source": [
    "df_gov['UF'].unique()"
   ]
  },
  {
   "cell_type": "markdown",
   "metadata": {},
   "source": [
    "- Coluna 'Sexo'"
   ]
  },
  {
   "cell_type": "code",
   "execution_count": 18,
   "metadata": {},
   "outputs": [
    {
     "data": {
      "text/plain": [
       "array(['M', 'F', 'O'], dtype=object)"
      ]
     },
     "execution_count": 18,
     "metadata": {},
     "output_type": "execute_result"
    }
   ],
   "source": [
    "df_gov['Sexo'].unique()"
   ]
  },
  {
   "cell_type": "markdown",
   "metadata": {},
   "source": [
    "- Coluna 'Procurou Empresa'"
   ]
  },
  {
   "cell_type": "code",
   "execution_count": 19,
   "metadata": {},
   "outputs": [
    {
     "data": {
      "text/plain": [
       "array(['S', 'N'], dtype=object)"
      ]
     },
     "execution_count": 19,
     "metadata": {},
     "output_type": "execute_result"
    }
   ],
   "source": [
    "df_gov['Procurou Empresa'].unique()"
   ]
  },
  {
   "cell_type": "markdown",
   "metadata": {},
   "source": [
    "- Coluna 'Respondida'"
   ]
  },
  {
   "cell_type": "code",
   "execution_count": 20,
   "metadata": {},
   "outputs": [
    {
     "data": {
      "text/plain": [
       "array(['N', 'S'], dtype=object)"
      ]
     },
     "execution_count": 20,
     "metadata": {},
     "output_type": "execute_result"
    }
   ],
   "source": [
    "df_gov['Respondida'].unique()"
   ]
  },
  {
   "cell_type": "markdown",
   "metadata": {},
   "source": [
    "- Coluna 'Situação'"
   ]
  },
  {
   "cell_type": "code",
   "execution_count": 21,
   "metadata": {},
   "outputs": [
    {
     "data": {
      "text/plain": [
       "array(['Finalizada avaliada', 'Finalizada não avaliada'], dtype=object)"
      ]
     },
     "execution_count": 21,
     "metadata": {},
     "output_type": "execute_result"
    }
   ],
   "source": [
    "df_gov['Situação'].unique()"
   ]
  },
  {
   "cell_type": "markdown",
   "metadata": {},
   "source": [
    "### Criando novas variáveis"
   ]
  },
  {
   "cell_type": "code",
   "execution_count": 22,
   "metadata": {},
   "outputs": [],
   "source": [
    "# Criando a variavel 'Solicitação' aonde cada linha vai receber o numero 1 como identificação\n",
    "df_gov['Solicitação'] = 1"
   ]
  },
  {
   "cell_type": "code",
   "execution_count": 23,
   "metadata": {},
   "outputs": [
    {
     "name": "stdout",
     "output_type": "stream",
     "text": [
      "<class 'pandas.core.frame.DataFrame'>\n",
      "Index: 5118745 entries, 23 to 5137882\n",
      "Data columns (total 20 columns):\n",
      " #   Column                  Dtype         \n",
      "---  ------                  -----         \n",
      " 0   Região                  object        \n",
      " 1   UF                      object        \n",
      " 2   Cidade                  object        \n",
      " 3   Sexo                    object        \n",
      " 4   Faixa Etária            object        \n",
      " 5   Data Finalização        datetime64[ns]\n",
      " 6   Tempo Resposta          float64       \n",
      " 7   Nome Fantasia           object        \n",
      " 8   Segmento de Mercado     object        \n",
      " 9   Área                    object        \n",
      " 10  Assunto                 object        \n",
      " 11  Grupo Problema          object        \n",
      " 12  Problema                object        \n",
      " 13  Como Comprou Contratou  object        \n",
      " 14  Procurou Empresa        object        \n",
      " 15  Respondida              object        \n",
      " 16  Situação                object        \n",
      " 17  Avaliação Reclamação    object        \n",
      " 18  Nota do Consumidor      float64       \n",
      " 19  Solicitação             int64         \n",
      "dtypes: datetime64[ns](1), float64(2), int64(1), object(16)\n",
      "memory usage: 820.1+ MB\n"
     ]
    }
   ],
   "source": [
    "# Transformando a coluna 'Data Finalização' de object para datetime\n",
    "df_gov['Data Finalização'] = pd.to_datetime(df_gov['Data Finalização'], format='mixed')\n",
    "\n",
    "# Informações do tipo dos dados das colunas\n",
    "df_gov.info()"
   ]
  },
  {
   "cell_type": "code",
   "execution_count": 24,
   "metadata": {},
   "outputs": [
    {
     "data": {
      "text/plain": [
       "array(['Janeiro', 'Fevereiro', 'Março', 'Abril', 'Maio', 'Junho', 'Julho',\n",
       "       'Agosto', 'Setembro', 'Outubro', 'Novembro', 'Dezembro'],\n",
       "      dtype=object)"
      ]
     },
     "execution_count": 24,
     "metadata": {},
     "output_type": "execute_result"
    }
   ],
   "source": [
    "# Criando a variável Mes(Número do mês)\n",
    "df_gov['Mes Finalização'] = df_gov['Data Finalização'].dt.month\n",
    "\n",
    "# Criando a variável Mes Nome(Com o nome do mês)\n",
    "df_gov['Mes Nome Finalização'] = 'NaN'\n",
    "\n",
    "df_gov.loc[df_gov['Mes Finalização'] == 1, 'Mes Nome Finalização'] = 'Janeiro'\n",
    "df_gov.loc[df_gov['Mes Finalização'] == 2, 'Mes Nome Finalização'] = 'Fevereiro'\n",
    "df_gov.loc[df_gov['Mes Finalização'] == 3, 'Mes Nome Finalização'] = 'Março'\n",
    "df_gov.loc[df_gov['Mes Finalização'] == 4, 'Mes Nome Finalização'] = 'Abril'\n",
    "df_gov.loc[df_gov['Mes Finalização'] == 5, 'Mes Nome Finalização'] = 'Maio'\n",
    "df_gov.loc[df_gov['Mes Finalização'] == 6, 'Mes Nome Finalização'] = 'Junho'\n",
    "df_gov.loc[df_gov['Mes Finalização'] == 7, 'Mes Nome Finalização'] = 'Julho'\n",
    "df_gov.loc[df_gov['Mes Finalização'] == 8, 'Mes Nome Finalização'] = 'Agosto'\n",
    "df_gov.loc[df_gov['Mes Finalização'] == 9, 'Mes Nome Finalização'] = 'Setembro'\n",
    "df_gov.loc[df_gov['Mes Finalização'] == 10, 'Mes Nome Finalização'] = 'Outubro'\n",
    "df_gov.loc[df_gov['Mes Finalização'] == 11, 'Mes Nome Finalização'] = 'Novembro'\n",
    "df_gov.loc[df_gov['Mes Finalização'] == 12, 'Mes Nome Finalização'] = 'Dezembro'\n",
    "\n",
    "# Verificando os valores únicos\n",
    "df_gov['Mes Nome Finalização'].unique()"
   ]
  },
  {
   "cell_type": "code",
   "execution_count": 25,
   "metadata": {},
   "outputs": [
    {
     "data": {
      "application/vnd.microsoft.datawrangler.viewer.v0+json": {
       "columns": [
        {
         "name": "index",
         "rawType": "int64",
         "type": "integer"
        },
        {
         "name": "Região",
         "rawType": "object",
         "type": "string"
        },
        {
         "name": "UF",
         "rawType": "object",
         "type": "string"
        },
        {
         "name": "Cidade",
         "rawType": "object",
         "type": "string"
        },
        {
         "name": "Sexo",
         "rawType": "object",
         "type": "string"
        },
        {
         "name": "Faixa Etária",
         "rawType": "object",
         "type": "string"
        },
        {
         "name": "Data Finalização",
         "rawType": "datetime64[ns]",
         "type": "datetime"
        },
        {
         "name": "Tempo Resposta",
         "rawType": "float64",
         "type": "float"
        },
        {
         "name": "Nome Fantasia",
         "rawType": "object",
         "type": "string"
        },
        {
         "name": "Segmento de Mercado",
         "rawType": "object",
         "type": "string"
        },
        {
         "name": "Área",
         "rawType": "object",
         "type": "string"
        },
        {
         "name": "Assunto",
         "rawType": "object",
         "type": "string"
        },
        {
         "name": "Grupo Problema",
         "rawType": "object",
         "type": "string"
        },
        {
         "name": "Problema",
         "rawType": "object",
         "type": "string"
        },
        {
         "name": "Como Comprou Contratou",
         "rawType": "object",
         "type": "string"
        },
        {
         "name": "Procurou Empresa",
         "rawType": "object",
         "type": "string"
        },
        {
         "name": "Respondida",
         "rawType": "object",
         "type": "string"
        },
        {
         "name": "Situação",
         "rawType": "object",
         "type": "string"
        },
        {
         "name": "Avaliação Reclamação",
         "rawType": "object",
         "type": "string"
        },
        {
         "name": "Nota do Consumidor",
         "rawType": "float64",
         "type": "float"
        },
        {
         "name": "Solicitação",
         "rawType": "int64",
         "type": "integer"
        },
        {
         "name": "Mes Finalização",
         "rawType": "int32",
         "type": "integer"
        },
        {
         "name": "Mes Nome Finalização",
         "rawType": "object",
         "type": "string"
        }
       ],
       "conversionMethod": "pd.DataFrame",
       "ref": "30c9b7ac-3492-4089-acbe-e225f7c00d77",
       "rows": [
        [
         "5137877",
         "NE",
         "PI",
         "Teresina",
         "M",
         "entre 31 a 40 anos",
         "2025-01-31 00:00:00",
         "0.0",
         "Equatorial Piauí",
         "Energia Elétrica",
         "Água, Energia, Gás",
         "Energia Elétrica",
         "Cobrança / Contestação",
         "Negativação indevida (SPC, Serasa, SCPC etc)",
         "Telefone",
         "S",
         "S",
         "Finalizada avaliada",
         "Resolvida",
         "5.0",
         "1",
         "1",
         "Janeiro"
        ],
        [
         "5137878",
         "NE",
         "PI",
         "São João da Serra",
         "M",
         "entre 51 a 60 anos",
         "2025-01-31 00:00:00",
         "0.0",
         "Equatorial Piauí",
         "Energia Elétrica",
         "Água, Energia, Gás",
         "Energia Elétrica",
         "Cobrança / Contestação",
         "Negativação indevida (SPC, Serasa, SCPC etc)",
         "Telefone",
         "S",
         "S",
         "Finalizada avaliada",
         "Resolvida",
         "5.0",
         "1",
         "1",
         "Janeiro"
        ],
        [
         "5137879",
         "NE",
         "PI",
         "São João da Serra",
         "M",
         "entre 31 a 40 anos",
         "2025-01-31 00:00:00",
         "0.0",
         "Equatorial Piauí",
         "Energia Elétrica",
         "Água, Energia, Gás",
         "Energia Elétrica",
         "Cobrança / Contestação",
         "Dificuldade na inclusão em tarifa social ? recusa / falta de informação",
         "Telefone",
         "S",
         "S",
         "Finalizada avaliada",
         "Resolvida",
         "5.0",
         "1",
         "1",
         "Janeiro"
        ],
        [
         "5137880",
         "CO",
         "GO",
         "Valparaíso de Goiás",
         "F",
         "entre 41 a 50 anos",
         "2025-01-31 00:00:00",
         "0.0",
         "Equatorial Goiás",
         "Energia Elétrica",
         "Água, Energia, Gás",
         "Energia Elétrica",
         "Vício de Qualidade",
         "Interrupção/instabilidade do fornecimento (falta de energia frequente, flutuação/oscilação do nível de tensão)",
         "Loja física",
         "S",
         "S",
         "Finalizada avaliada",
         "Resolvida",
         "5.0",
         "1",
         "1",
         "Janeiro"
        ],
        [
         "5137882",
         "SE",
         "SP",
         "São Carlos",
         "F",
         "entre 51 a 60 anos",
         "2025-01-31 00:00:00",
         "0.0",
         "CPFL Paulista",
         "Energia Elétrica",
         "Água, Energia, Gás",
         "Energia Elétrica",
         "Atendimento / SAC",
         "SAC - Demanda não resolvida / não respondida / respondida após o prazo",
         "Telefone",
         "S",
         "S",
         "Finalizada avaliada",
         "Resolvida",
         "5.0",
         "1",
         "1",
         "Janeiro"
        ]
       ],
       "shape": {
        "columns": 22,
        "rows": 5
       }
      },
      "text/html": [
       "<div>\n",
       "<style scoped>\n",
       "    .dataframe tbody tr th:only-of-type {\n",
       "        vertical-align: middle;\n",
       "    }\n",
       "\n",
       "    .dataframe tbody tr th {\n",
       "        vertical-align: top;\n",
       "    }\n",
       "\n",
       "    .dataframe thead th {\n",
       "        text-align: right;\n",
       "    }\n",
       "</style>\n",
       "<table border=\"1\" class=\"dataframe\">\n",
       "  <thead>\n",
       "    <tr style=\"text-align: right;\">\n",
       "      <th></th>\n",
       "      <th>Região</th>\n",
       "      <th>UF</th>\n",
       "      <th>Cidade</th>\n",
       "      <th>Sexo</th>\n",
       "      <th>Faixa Etária</th>\n",
       "      <th>Data Finalização</th>\n",
       "      <th>Tempo Resposta</th>\n",
       "      <th>Nome Fantasia</th>\n",
       "      <th>Segmento de Mercado</th>\n",
       "      <th>Área</th>\n",
       "      <th>Assunto</th>\n",
       "      <th>Grupo Problema</th>\n",
       "      <th>Problema</th>\n",
       "      <th>Como Comprou Contratou</th>\n",
       "      <th>Procurou Empresa</th>\n",
       "      <th>Respondida</th>\n",
       "      <th>Situação</th>\n",
       "      <th>Avaliação Reclamação</th>\n",
       "      <th>Nota do Consumidor</th>\n",
       "      <th>Solicitação</th>\n",
       "      <th>Mes Finalização</th>\n",
       "      <th>Mes Nome Finalização</th>\n",
       "    </tr>\n",
       "  </thead>\n",
       "  <tbody>\n",
       "    <tr>\n",
       "      <th>5137877</th>\n",
       "      <td>NE</td>\n",
       "      <td>PI</td>\n",
       "      <td>Teresina</td>\n",
       "      <td>M</td>\n",
       "      <td>entre 31 a 40 anos</td>\n",
       "      <td>2025-01-31</td>\n",
       "      <td>0.0</td>\n",
       "      <td>Equatorial Piauí</td>\n",
       "      <td>Energia Elétrica</td>\n",
       "      <td>Água, Energia, Gás</td>\n",
       "      <td>Energia Elétrica</td>\n",
       "      <td>Cobrança / Contestação</td>\n",
       "      <td>Negativação indevida (SPC, Serasa, SCPC etc)</td>\n",
       "      <td>Telefone</td>\n",
       "      <td>S</td>\n",
       "      <td>S</td>\n",
       "      <td>Finalizada avaliada</td>\n",
       "      <td>Resolvida</td>\n",
       "      <td>5.0</td>\n",
       "      <td>1</td>\n",
       "      <td>1</td>\n",
       "      <td>Janeiro</td>\n",
       "    </tr>\n",
       "    <tr>\n",
       "      <th>5137878</th>\n",
       "      <td>NE</td>\n",
       "      <td>PI</td>\n",
       "      <td>São João da Serra</td>\n",
       "      <td>M</td>\n",
       "      <td>entre 51 a 60 anos</td>\n",
       "      <td>2025-01-31</td>\n",
       "      <td>0.0</td>\n",
       "      <td>Equatorial Piauí</td>\n",
       "      <td>Energia Elétrica</td>\n",
       "      <td>Água, Energia, Gás</td>\n",
       "      <td>Energia Elétrica</td>\n",
       "      <td>Cobrança / Contestação</td>\n",
       "      <td>Negativação indevida (SPC, Serasa, SCPC etc)</td>\n",
       "      <td>Telefone</td>\n",
       "      <td>S</td>\n",
       "      <td>S</td>\n",
       "      <td>Finalizada avaliada</td>\n",
       "      <td>Resolvida</td>\n",
       "      <td>5.0</td>\n",
       "      <td>1</td>\n",
       "      <td>1</td>\n",
       "      <td>Janeiro</td>\n",
       "    </tr>\n",
       "    <tr>\n",
       "      <th>5137879</th>\n",
       "      <td>NE</td>\n",
       "      <td>PI</td>\n",
       "      <td>São João da Serra</td>\n",
       "      <td>M</td>\n",
       "      <td>entre 31 a 40 anos</td>\n",
       "      <td>2025-01-31</td>\n",
       "      <td>0.0</td>\n",
       "      <td>Equatorial Piauí</td>\n",
       "      <td>Energia Elétrica</td>\n",
       "      <td>Água, Energia, Gás</td>\n",
       "      <td>Energia Elétrica</td>\n",
       "      <td>Cobrança / Contestação</td>\n",
       "      <td>Dificuldade na inclusão em tarifa social ? rec...</td>\n",
       "      <td>Telefone</td>\n",
       "      <td>S</td>\n",
       "      <td>S</td>\n",
       "      <td>Finalizada avaliada</td>\n",
       "      <td>Resolvida</td>\n",
       "      <td>5.0</td>\n",
       "      <td>1</td>\n",
       "      <td>1</td>\n",
       "      <td>Janeiro</td>\n",
       "    </tr>\n",
       "    <tr>\n",
       "      <th>5137880</th>\n",
       "      <td>CO</td>\n",
       "      <td>GO</td>\n",
       "      <td>Valparaíso de Goiás</td>\n",
       "      <td>F</td>\n",
       "      <td>entre 41 a 50 anos</td>\n",
       "      <td>2025-01-31</td>\n",
       "      <td>0.0</td>\n",
       "      <td>Equatorial Goiás</td>\n",
       "      <td>Energia Elétrica</td>\n",
       "      <td>Água, Energia, Gás</td>\n",
       "      <td>Energia Elétrica</td>\n",
       "      <td>Vício de Qualidade</td>\n",
       "      <td>Interrupção/instabilidade do fornecimento (fal...</td>\n",
       "      <td>Loja física</td>\n",
       "      <td>S</td>\n",
       "      <td>S</td>\n",
       "      <td>Finalizada avaliada</td>\n",
       "      <td>Resolvida</td>\n",
       "      <td>5.0</td>\n",
       "      <td>1</td>\n",
       "      <td>1</td>\n",
       "      <td>Janeiro</td>\n",
       "    </tr>\n",
       "    <tr>\n",
       "      <th>5137882</th>\n",
       "      <td>SE</td>\n",
       "      <td>SP</td>\n",
       "      <td>São Carlos</td>\n",
       "      <td>F</td>\n",
       "      <td>entre 51 a 60 anos</td>\n",
       "      <td>2025-01-31</td>\n",
       "      <td>0.0</td>\n",
       "      <td>CPFL Paulista</td>\n",
       "      <td>Energia Elétrica</td>\n",
       "      <td>Água, Energia, Gás</td>\n",
       "      <td>Energia Elétrica</td>\n",
       "      <td>Atendimento / SAC</td>\n",
       "      <td>SAC - Demanda não resolvida / não respondida /...</td>\n",
       "      <td>Telefone</td>\n",
       "      <td>S</td>\n",
       "      <td>S</td>\n",
       "      <td>Finalizada avaliada</td>\n",
       "      <td>Resolvida</td>\n",
       "      <td>5.0</td>\n",
       "      <td>1</td>\n",
       "      <td>1</td>\n",
       "      <td>Janeiro</td>\n",
       "    </tr>\n",
       "  </tbody>\n",
       "</table>\n",
       "</div>"
      ],
      "text/plain": [
       "        Região  UF               Cidade Sexo        Faixa Etária  \\\n",
       "5137877     NE  PI             Teresina    M  entre 31 a 40 anos   \n",
       "5137878     NE  PI    São João da Serra    M  entre 51 a 60 anos   \n",
       "5137879     NE  PI    São João da Serra    M  entre 31 a 40 anos   \n",
       "5137880     CO  GO  Valparaíso de Goiás    F  entre 41 a 50 anos   \n",
       "5137882     SE  SP           São Carlos    F  entre 51 a 60 anos   \n",
       "\n",
       "        Data Finalização  Tempo Resposta     Nome Fantasia  \\\n",
       "5137877       2025-01-31             0.0  Equatorial Piauí   \n",
       "5137878       2025-01-31             0.0  Equatorial Piauí   \n",
       "5137879       2025-01-31             0.0  Equatorial Piauí   \n",
       "5137880       2025-01-31             0.0  Equatorial Goiás   \n",
       "5137882       2025-01-31             0.0     CPFL Paulista   \n",
       "\n",
       "        Segmento de Mercado                Área           Assunto  \\\n",
       "5137877    Energia Elétrica  Água, Energia, Gás  Energia Elétrica   \n",
       "5137878    Energia Elétrica  Água, Energia, Gás  Energia Elétrica   \n",
       "5137879    Energia Elétrica  Água, Energia, Gás  Energia Elétrica   \n",
       "5137880    Energia Elétrica  Água, Energia, Gás  Energia Elétrica   \n",
       "5137882    Energia Elétrica  Água, Energia, Gás  Energia Elétrica   \n",
       "\n",
       "                 Grupo Problema  \\\n",
       "5137877  Cobrança / Contestação   \n",
       "5137878  Cobrança / Contestação   \n",
       "5137879  Cobrança / Contestação   \n",
       "5137880      Vício de Qualidade   \n",
       "5137882       Atendimento / SAC   \n",
       "\n",
       "                                                  Problema  \\\n",
       "5137877       Negativação indevida (SPC, Serasa, SCPC etc)   \n",
       "5137878       Negativação indevida (SPC, Serasa, SCPC etc)   \n",
       "5137879  Dificuldade na inclusão em tarifa social ? rec...   \n",
       "5137880  Interrupção/instabilidade do fornecimento (fal...   \n",
       "5137882  SAC - Demanda não resolvida / não respondida /...   \n",
       "\n",
       "        Como Comprou Contratou Procurou Empresa Respondida  \\\n",
       "5137877               Telefone                S          S   \n",
       "5137878               Telefone                S          S   \n",
       "5137879               Telefone                S          S   \n",
       "5137880            Loja física                S          S   \n",
       "5137882               Telefone                S          S   \n",
       "\n",
       "                    Situação Avaliação Reclamação  Nota do Consumidor  \\\n",
       "5137877  Finalizada avaliada            Resolvida                 5.0   \n",
       "5137878  Finalizada avaliada            Resolvida                 5.0   \n",
       "5137879  Finalizada avaliada            Resolvida                 5.0   \n",
       "5137880  Finalizada avaliada            Resolvida                 5.0   \n",
       "5137882  Finalizada avaliada            Resolvida                 5.0   \n",
       "\n",
       "         Solicitação  Mes Finalização Mes Nome Finalização  \n",
       "5137877            1                1              Janeiro  \n",
       "5137878            1                1              Janeiro  \n",
       "5137879            1                1              Janeiro  \n",
       "5137880            1                1              Janeiro  \n",
       "5137882            1                1              Janeiro  "
      ]
     },
     "execution_count": 25,
     "metadata": {},
     "output_type": "execute_result"
    }
   ],
   "source": [
    "df_gov.tail(5)"
   ]
  },
  {
   "cell_type": "code",
   "execution_count": 26,
   "metadata": {},
   "outputs": [
    {
     "data": {
      "text/plain": [
       "array(['Terça-Feira', 'Segunda-Feira', 'Quarta-Feira', 'Sexta-Feira',\n",
       "       'Sábado', 'Quinta-Feira', 'Domingo'], dtype=object)"
      ]
     },
     "execution_count": 26,
     "metadata": {},
     "output_type": "execute_result"
    }
   ],
   "source": [
    "# Criando a variável Dia da Semana(Número do Dia da Semana)\n",
    "df_gov['Dia Semana Finalização'] = df_gov['Data Finalização'].dt.weekday\n",
    "\n",
    "# Criando a variável Dia Semana Nome Finalização(Com o nome do dia da semana)\n",
    "df_gov['Dia Semana Nome Finalização'] = 'NaN'\n",
    "\n",
    "df_gov.loc[df_gov['Dia Semana Finalização'] == 0, 'Dia Semana Nome Finalização'] = 'Segunda-Feira'\n",
    "df_gov.loc[df_gov['Dia Semana Finalização'] == 1, 'Dia Semana Nome Finalização'] = 'Terça-Feira'\n",
    "df_gov.loc[df_gov['Dia Semana Finalização'] == 2, 'Dia Semana Nome Finalização'] = 'Quarta-Feira'\n",
    "df_gov.loc[df_gov['Dia Semana Finalização'] == 3, 'Dia Semana Nome Finalização'] = 'Quinta-Feira'\n",
    "df_gov.loc[df_gov['Dia Semana Finalização'] == 4, 'Dia Semana Nome Finalização'] = 'Sexta-Feira'\n",
    "df_gov.loc[df_gov['Dia Semana Finalização'] == 5, 'Dia Semana Nome Finalização'] = 'Sábado'\n",
    "df_gov.loc[df_gov['Dia Semana Finalização'] == 6, 'Dia Semana Nome Finalização'] = 'Domingo'\n",
    "\n",
    "# Verificando os valores únicos\n",
    "df_gov['Dia Semana Nome Finalização'].unique()"
   ]
  },
  {
   "cell_type": "code",
   "execution_count": 27,
   "metadata": {},
   "outputs": [
    {
     "data": {
      "text/plain": [
       "array([2021, 2022, 2023, 2024, 2025], dtype=int32)"
      ]
     },
     "execution_count": 27,
     "metadata": {},
     "output_type": "execute_result"
    }
   ],
   "source": [
    "# Criando a variável Ano\n",
    "df_gov['Ano'] = df_gov['Data Finalização'].dt.year\n",
    "\n",
    "# Verificando os valores únicos\n",
    "df_gov['Ano'].unique()"
   ]
  },
  {
   "cell_type": "markdown",
   "metadata": {},
   "source": [
    "### Renomeando Nome das Colunas"
   ]
  },
  {
   "cell_type": "code",
   "execution_count": 28,
   "metadata": {},
   "outputs": [],
   "source": [
    "df_gov.rename(columns={\n",
    "    'Região': 'Regiao',\n",
    "    'Faixa Etária': 'Faixa_Etaria',\n",
    "    'Data Finalização': 'Data_Finalizacao',\n",
    "    'Tempo Resposta': 'Tempo_Resposta',\n",
    "    'Nome Fantasia': 'Nome_Fantasia',\n",
    "    'Segmento de Mercado': 'Segmento_de_Mercado',\n",
    "    'Área': 'Area',\n",
    "    'Grupo Problema': 'Grupo_Problema',\n",
    "    'Como Comprou Contratou': 'Como_Comprou_Contratou',\n",
    "    'Procurou Empresa': 'Procurou_Empresa',\n",
    "    'Situação': 'Situacao',\n",
    "    'Avaliação Reclamação': 'Avaliacao_Reclamacao',\n",
    "    'Nota do Consumidor': 'Nota_do_Consumidor',\n",
    "    'Solicitação': 'Solicitacao',\n",
    "    'Mes Finalização': 'Mes_Finalizacao',\n",
    "    'Mes Nome Finalização': 'Mes_Nome_Finalizacao',\n",
    "    'Dia Semana Finalização': 'Dia_Semana_Finalizacao',\n",
    "    'Dia Semana Nome Finalização': 'Dia_Semana_Nome_Finalizacao'}, inplace=True)"
   ]
  },
  {
   "cell_type": "code",
   "execution_count": 29,
   "metadata": {},
   "outputs": [
    {
     "data": {
      "application/vnd.microsoft.datawrangler.viewer.v0+json": {
       "columns": [
        {
         "name": "index",
         "rawType": "int64",
         "type": "integer"
        },
        {
         "name": "Regiao",
         "rawType": "object",
         "type": "string"
        },
        {
         "name": "UF",
         "rawType": "object",
         "type": "string"
        },
        {
         "name": "Cidade",
         "rawType": "object",
         "type": "string"
        },
        {
         "name": "Sexo",
         "rawType": "object",
         "type": "string"
        },
        {
         "name": "Faixa_Etaria",
         "rawType": "object",
         "type": "string"
        },
        {
         "name": "Data_Finalizacao",
         "rawType": "datetime64[ns]",
         "type": "datetime"
        },
        {
         "name": "Tempo_Resposta",
         "rawType": "float64",
         "type": "float"
        },
        {
         "name": "Nome_Fantasia",
         "rawType": "object",
         "type": "string"
        },
        {
         "name": "Segmento_de_Mercado",
         "rawType": "object",
         "type": "string"
        },
        {
         "name": "Area",
         "rawType": "object",
         "type": "string"
        },
        {
         "name": "Assunto",
         "rawType": "object",
         "type": "string"
        },
        {
         "name": "Grupo_Problema",
         "rawType": "object",
         "type": "string"
        },
        {
         "name": "Problema",
         "rawType": "object",
         "type": "string"
        },
        {
         "name": "Como_Comprou_Contratou",
         "rawType": "object",
         "type": "string"
        },
        {
         "name": "Procurou_Empresa",
         "rawType": "object",
         "type": "string"
        },
        {
         "name": "Respondida",
         "rawType": "object",
         "type": "string"
        },
        {
         "name": "Situacao",
         "rawType": "object",
         "type": "string"
        },
        {
         "name": "Avaliacao_Reclamacao",
         "rawType": "object",
         "type": "string"
        },
        {
         "name": "Nota_do_Consumidor",
         "rawType": "float64",
         "type": "float"
        },
        {
         "name": "Solicitacao",
         "rawType": "int64",
         "type": "integer"
        },
        {
         "name": "Mes_Finalizacao",
         "rawType": "int32",
         "type": "integer"
        },
        {
         "name": "Mes_Nome_Finalizacao",
         "rawType": "object",
         "type": "string"
        },
        {
         "name": "Dia_Semana_Finalizacao",
         "rawType": "int32",
         "type": "integer"
        },
        {
         "name": "Dia_Semana_Nome_Finalizacao",
         "rawType": "object",
         "type": "string"
        },
        {
         "name": "Ano",
         "rawType": "int32",
         "type": "integer"
        }
       ],
       "conversionMethod": "pd.DataFrame",
       "ref": "5d64d737-7224-426e-8403-ba32b3f5a203",
       "rows": [
        [
         "23",
         "NE",
         "CE",
         "Fortaleza",
         "M",
         "entre 31 a 40 anos",
         "2021-01-05 00:00:00",
         "0.0",
         "Faculdade Unopar",
         "Estabelecimentos de Ensino",
         "Educação",
         "Superior ( Graduação e Pós )",
         "Atendimento / SAC",
         "Má qualidade no atendimento (descortesia / despreparo/ constrangimento)",
         "Loja física",
         "S",
         "N",
         "Finalizada avaliada",
         "Não Resolvida",
         "1.0",
         "1",
         "1",
         "Janeiro",
         "1",
         "Terça-Feira",
         "2021"
        ],
        [
         "24",
         "S ",
         "RS",
         "Horizontina",
         "F",
         "mais de 70 anos",
         "2021-01-04 00:00:00",
         "15.0",
         "Itaú Consignado",
         "Bancos, Financeiras e Administradoras de Cartão",
         "Serviços Financeiros",
         "Crédito Consignado / Cartão de Crédito Consignado / RMC (para beneficiários do INSS)",
         "Cobrança / Contestação",
         "Cobrança por serviço/produto não contratado / não reconhecido / não solicitado",
         "Não comprei / contratei",
         "N",
         "S",
         "Finalizada não avaliada",
         "Não Avaliada",
         "1.0",
         "1",
         "1",
         "Janeiro",
         "0",
         "Segunda-Feira",
         "2021"
        ],
        [
         "25",
         "SE",
         "SP",
         "Caieiras",
         "M",
         "entre 21 a 30 anos",
         "2021-01-06 00:00:00",
         "15.0",
         "Itauleasing",
         "Bancos, Financeiras e Administradoras de Cartão",
         "Serviços Financeiros",
         "Banco de Dados e Cadastros de Consumidores (SPC, Serasa, SCPC etc)",
         "Informação",
         "Dados pessoais ou financeiros consultados, coletados, publicados ou repassados sem autorização",
         "Não comprei / contratei",
         "S",
         "S",
         "Finalizada não avaliada",
         "Não Avaliada",
         "1.0",
         "1",
         "1",
         "Janeiro",
         "2",
         "Quarta-Feira",
         "2021"
        ],
        [
         "26",
         "SE",
         "SP",
         "São Paulo",
         "M",
         "entre 21 a 30 anos",
         "2021-01-01 00:00:00",
         "13.0",
         "Banco Santander Cartões",
         "Bancos, Financeiras e Administradoras de Cartão",
         "Serviços Financeiros",
         "Cartão de Crédito / Cartão de Débito / Cartão de Loja",
         "Cobrança / Contestação",
         "Cobrança por serviço/produto não contratado / não reconhecido / não solicitado",
         "Não comprei / contratei",
         "S",
         "S",
         "Finalizada não avaliada",
         "Não Avaliada",
         "1.0",
         "1",
         "1",
         "Janeiro",
         "4",
         "Sexta-Feira",
         "2021"
        ],
        [
         "27",
         "SE",
         "RJ",
         "Rio de Janeiro",
         "F",
         "entre 31 a 40 anos",
         "2021-01-02 00:00:00",
         "15.0",
         "Itaucard",
         "Bancos, Financeiras e Administradoras de Cartão",
         "Demais Serviços ",
         "Programas de Fidelidade / Benefícios (pontos, milhagem etc)",
         "Contrato / Oferta",
         "Oferta não cumprida / serviço não fornecido/ venda enganosa / publicidade enganosa",
         "Não comprei / contratei",
         "S",
         "S",
         "Finalizada não avaliada",
         "Não Avaliada",
         "1.0",
         "1",
         "1",
         "Janeiro",
         "5",
         "Sábado",
         "2021"
        ]
       ],
       "shape": {
        "columns": 25,
        "rows": 5
       }
      },
      "text/html": [
       "<div>\n",
       "<style scoped>\n",
       "    .dataframe tbody tr th:only-of-type {\n",
       "        vertical-align: middle;\n",
       "    }\n",
       "\n",
       "    .dataframe tbody tr th {\n",
       "        vertical-align: top;\n",
       "    }\n",
       "\n",
       "    .dataframe thead th {\n",
       "        text-align: right;\n",
       "    }\n",
       "</style>\n",
       "<table border=\"1\" class=\"dataframe\">\n",
       "  <thead>\n",
       "    <tr style=\"text-align: right;\">\n",
       "      <th></th>\n",
       "      <th>Regiao</th>\n",
       "      <th>UF</th>\n",
       "      <th>Cidade</th>\n",
       "      <th>Sexo</th>\n",
       "      <th>Faixa_Etaria</th>\n",
       "      <th>Data_Finalizacao</th>\n",
       "      <th>Tempo_Resposta</th>\n",
       "      <th>Nome_Fantasia</th>\n",
       "      <th>Segmento_de_Mercado</th>\n",
       "      <th>Area</th>\n",
       "      <th>Assunto</th>\n",
       "      <th>Grupo_Problema</th>\n",
       "      <th>Problema</th>\n",
       "      <th>Como_Comprou_Contratou</th>\n",
       "      <th>Procurou_Empresa</th>\n",
       "      <th>Respondida</th>\n",
       "      <th>Situacao</th>\n",
       "      <th>Avaliacao_Reclamacao</th>\n",
       "      <th>Nota_do_Consumidor</th>\n",
       "      <th>Solicitacao</th>\n",
       "      <th>Mes_Finalizacao</th>\n",
       "      <th>Mes_Nome_Finalizacao</th>\n",
       "      <th>Dia_Semana_Finalizacao</th>\n",
       "      <th>Dia_Semana_Nome_Finalizacao</th>\n",
       "      <th>Ano</th>\n",
       "    </tr>\n",
       "  </thead>\n",
       "  <tbody>\n",
       "    <tr>\n",
       "      <th>23</th>\n",
       "      <td>NE</td>\n",
       "      <td>CE</td>\n",
       "      <td>Fortaleza</td>\n",
       "      <td>M</td>\n",
       "      <td>entre 31 a 40 anos</td>\n",
       "      <td>2021-01-05</td>\n",
       "      <td>0.0</td>\n",
       "      <td>Faculdade Unopar</td>\n",
       "      <td>Estabelecimentos de Ensino</td>\n",
       "      <td>Educação</td>\n",
       "      <td>Superior ( Graduação e Pós )</td>\n",
       "      <td>Atendimento / SAC</td>\n",
       "      <td>Má qualidade no atendimento (descortesia / des...</td>\n",
       "      <td>Loja física</td>\n",
       "      <td>S</td>\n",
       "      <td>N</td>\n",
       "      <td>Finalizada avaliada</td>\n",
       "      <td>Não Resolvida</td>\n",
       "      <td>1.0</td>\n",
       "      <td>1</td>\n",
       "      <td>1</td>\n",
       "      <td>Janeiro</td>\n",
       "      <td>1</td>\n",
       "      <td>Terça-Feira</td>\n",
       "      <td>2021</td>\n",
       "    </tr>\n",
       "    <tr>\n",
       "      <th>24</th>\n",
       "      <td>S</td>\n",
       "      <td>RS</td>\n",
       "      <td>Horizontina</td>\n",
       "      <td>F</td>\n",
       "      <td>mais de 70 anos</td>\n",
       "      <td>2021-01-04</td>\n",
       "      <td>15.0</td>\n",
       "      <td>Itaú Consignado</td>\n",
       "      <td>Bancos, Financeiras e Administradoras de Cartão</td>\n",
       "      <td>Serviços Financeiros</td>\n",
       "      <td>Crédito Consignado / Cartão de Crédito Consign...</td>\n",
       "      <td>Cobrança / Contestação</td>\n",
       "      <td>Cobrança por serviço/produto não contratado / ...</td>\n",
       "      <td>Não comprei / contratei</td>\n",
       "      <td>N</td>\n",
       "      <td>S</td>\n",
       "      <td>Finalizada não avaliada</td>\n",
       "      <td>Não Avaliada</td>\n",
       "      <td>1.0</td>\n",
       "      <td>1</td>\n",
       "      <td>1</td>\n",
       "      <td>Janeiro</td>\n",
       "      <td>0</td>\n",
       "      <td>Segunda-Feira</td>\n",
       "      <td>2021</td>\n",
       "    </tr>\n",
       "    <tr>\n",
       "      <th>25</th>\n",
       "      <td>SE</td>\n",
       "      <td>SP</td>\n",
       "      <td>Caieiras</td>\n",
       "      <td>M</td>\n",
       "      <td>entre 21 a 30 anos</td>\n",
       "      <td>2021-01-06</td>\n",
       "      <td>15.0</td>\n",
       "      <td>Itauleasing</td>\n",
       "      <td>Bancos, Financeiras e Administradoras de Cartão</td>\n",
       "      <td>Serviços Financeiros</td>\n",
       "      <td>Banco de Dados e Cadastros de Consumidores (SP...</td>\n",
       "      <td>Informação</td>\n",
       "      <td>Dados pessoais ou financeiros consultados, col...</td>\n",
       "      <td>Não comprei / contratei</td>\n",
       "      <td>S</td>\n",
       "      <td>S</td>\n",
       "      <td>Finalizada não avaliada</td>\n",
       "      <td>Não Avaliada</td>\n",
       "      <td>1.0</td>\n",
       "      <td>1</td>\n",
       "      <td>1</td>\n",
       "      <td>Janeiro</td>\n",
       "      <td>2</td>\n",
       "      <td>Quarta-Feira</td>\n",
       "      <td>2021</td>\n",
       "    </tr>\n",
       "    <tr>\n",
       "      <th>26</th>\n",
       "      <td>SE</td>\n",
       "      <td>SP</td>\n",
       "      <td>São Paulo</td>\n",
       "      <td>M</td>\n",
       "      <td>entre 21 a 30 anos</td>\n",
       "      <td>2021-01-01</td>\n",
       "      <td>13.0</td>\n",
       "      <td>Banco Santander Cartões</td>\n",
       "      <td>Bancos, Financeiras e Administradoras de Cartão</td>\n",
       "      <td>Serviços Financeiros</td>\n",
       "      <td>Cartão de Crédito / Cartão de Débito / Cartão ...</td>\n",
       "      <td>Cobrança / Contestação</td>\n",
       "      <td>Cobrança por serviço/produto não contratado / ...</td>\n",
       "      <td>Não comprei / contratei</td>\n",
       "      <td>S</td>\n",
       "      <td>S</td>\n",
       "      <td>Finalizada não avaliada</td>\n",
       "      <td>Não Avaliada</td>\n",
       "      <td>1.0</td>\n",
       "      <td>1</td>\n",
       "      <td>1</td>\n",
       "      <td>Janeiro</td>\n",
       "      <td>4</td>\n",
       "      <td>Sexta-Feira</td>\n",
       "      <td>2021</td>\n",
       "    </tr>\n",
       "    <tr>\n",
       "      <th>27</th>\n",
       "      <td>SE</td>\n",
       "      <td>RJ</td>\n",
       "      <td>Rio de Janeiro</td>\n",
       "      <td>F</td>\n",
       "      <td>entre 31 a 40 anos</td>\n",
       "      <td>2021-01-02</td>\n",
       "      <td>15.0</td>\n",
       "      <td>Itaucard</td>\n",
       "      <td>Bancos, Financeiras e Administradoras de Cartão</td>\n",
       "      <td>Demais Serviços</td>\n",
       "      <td>Programas de Fidelidade / Benefícios (pontos, ...</td>\n",
       "      <td>Contrato / Oferta</td>\n",
       "      <td>Oferta não cumprida / serviço não fornecido/ v...</td>\n",
       "      <td>Não comprei / contratei</td>\n",
       "      <td>S</td>\n",
       "      <td>S</td>\n",
       "      <td>Finalizada não avaliada</td>\n",
       "      <td>Não Avaliada</td>\n",
       "      <td>1.0</td>\n",
       "      <td>1</td>\n",
       "      <td>1</td>\n",
       "      <td>Janeiro</td>\n",
       "      <td>5</td>\n",
       "      <td>Sábado</td>\n",
       "      <td>2021</td>\n",
       "    </tr>\n",
       "  </tbody>\n",
       "</table>\n",
       "</div>"
      ],
      "text/plain": [
       "   Regiao  UF          Cidade Sexo        Faixa_Etaria Data_Finalizacao  \\\n",
       "23     NE  CE       Fortaleza    M  entre 31 a 40 anos       2021-01-05   \n",
       "24     S   RS     Horizontina    F     mais de 70 anos       2021-01-04   \n",
       "25     SE  SP        Caieiras    M  entre 21 a 30 anos       2021-01-06   \n",
       "26     SE  SP       São Paulo    M  entre 21 a 30 anos       2021-01-01   \n",
       "27     SE  RJ  Rio de Janeiro    F  entre 31 a 40 anos       2021-01-02   \n",
       "\n",
       "    Tempo_Resposta            Nome_Fantasia  \\\n",
       "23             0.0         Faculdade Unopar   \n",
       "24            15.0          Itaú Consignado   \n",
       "25            15.0              Itauleasing   \n",
       "26            13.0  Banco Santander Cartões   \n",
       "27            15.0                 Itaucard   \n",
       "\n",
       "                                Segmento_de_Mercado                  Area  \\\n",
       "23                       Estabelecimentos de Ensino              Educação   \n",
       "24  Bancos, Financeiras e Administradoras de Cartão  Serviços Financeiros   \n",
       "25  Bancos, Financeiras e Administradoras de Cartão  Serviços Financeiros   \n",
       "26  Bancos, Financeiras e Administradoras de Cartão  Serviços Financeiros   \n",
       "27  Bancos, Financeiras e Administradoras de Cartão      Demais Serviços    \n",
       "\n",
       "                                              Assunto          Grupo_Problema  \\\n",
       "23                       Superior ( Graduação e Pós )       Atendimento / SAC   \n",
       "24  Crédito Consignado / Cartão de Crédito Consign...  Cobrança / Contestação   \n",
       "25  Banco de Dados e Cadastros de Consumidores (SP...              Informação   \n",
       "26  Cartão de Crédito / Cartão de Débito / Cartão ...  Cobrança / Contestação   \n",
       "27  Programas de Fidelidade / Benefícios (pontos, ...       Contrato / Oferta   \n",
       "\n",
       "                                             Problema  \\\n",
       "23  Má qualidade no atendimento (descortesia / des...   \n",
       "24  Cobrança por serviço/produto não contratado / ...   \n",
       "25  Dados pessoais ou financeiros consultados, col...   \n",
       "26  Cobrança por serviço/produto não contratado / ...   \n",
       "27  Oferta não cumprida / serviço não fornecido/ v...   \n",
       "\n",
       "     Como_Comprou_Contratou Procurou_Empresa Respondida  \\\n",
       "23              Loja física                S          N   \n",
       "24  Não comprei / contratei                N          S   \n",
       "25  Não comprei / contratei                S          S   \n",
       "26  Não comprei / contratei                S          S   \n",
       "27  Não comprei / contratei                S          S   \n",
       "\n",
       "                   Situacao Avaliacao_Reclamacao  Nota_do_Consumidor  \\\n",
       "23      Finalizada avaliada        Não Resolvida                 1.0   \n",
       "24  Finalizada não avaliada         Não Avaliada                 1.0   \n",
       "25  Finalizada não avaliada         Não Avaliada                 1.0   \n",
       "26  Finalizada não avaliada         Não Avaliada                 1.0   \n",
       "27  Finalizada não avaliada         Não Avaliada                 1.0   \n",
       "\n",
       "    Solicitacao  Mes_Finalizacao Mes_Nome_Finalizacao  Dia_Semana_Finalizacao  \\\n",
       "23            1                1              Janeiro                       1   \n",
       "24            1                1              Janeiro                       0   \n",
       "25            1                1              Janeiro                       2   \n",
       "26            1                1              Janeiro                       4   \n",
       "27            1                1              Janeiro                       5   \n",
       "\n",
       "   Dia_Semana_Nome_Finalizacao   Ano  \n",
       "23                 Terça-Feira  2021  \n",
       "24               Segunda-Feira  2021  \n",
       "25                Quarta-Feira  2021  \n",
       "26                 Sexta-Feira  2021  \n",
       "27                      Sábado  2021  "
      ]
     },
     "execution_count": 29,
     "metadata": {},
     "output_type": "execute_result"
    }
   ],
   "source": [
    "# Amostra\n",
    "df_gov.head()"
   ]
  },
  {
   "cell_type": "markdown",
   "metadata": {},
   "source": [
    "### Salvando dataset em um arquivo .csv"
   ]
  },
  {
   "cell_type": "code",
   "execution_count": 30,
   "metadata": {},
   "outputs": [
    {
     "data": {
      "text/plain": [
       "5118745"
      ]
     },
     "execution_count": 30,
     "metadata": {},
     "output_type": "execute_result"
    }
   ],
   "source": [
    "# Salvando na pasta 'Data'\n",
    "\n",
    "import sqlite3\n",
    "\n",
    "df_gov.to_csv('../Data/Data_for_clear/dfGov.csv', sep=';', index=False)\n",
    "df_gov.to_parquet('../Data/Data_for_clear/GOLDEN_dfGov.parquet', index=False)\n",
    "\n",
    "conn = sqlite3.connect('../Data/Data_for_clear/dfGov.db')\n",
    "\n",
    "df_gov.to_sql('dfGov', conn, if_exists='replace', index=False)"
   ]
  }
 ],
 "metadata": {
  "kernelspec": {
   "display_name": ".venv",
   "language": "python",
   "name": "python3"
  },
  "language_info": {
   "codemirror_mode": {
    "name": "ipython",
    "version": 3
   },
   "file_extension": ".py",
   "mimetype": "text/x-python",
   "name": "python",
   "nbconvert_exporter": "python",
   "pygments_lexer": "ipython3",
   "version": "3.11.3"
  },
  "orig_nbformat": 4
 },
 "nbformat": 4,
 "nbformat_minor": 2
}
